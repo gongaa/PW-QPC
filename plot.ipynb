{
 "cells": [
  {
   "cell_type": "code",
   "execution_count": 1,
   "id": "447553bd",
   "metadata": {},
   "outputs": [],
   "source": [
    "import re\n",
    "import subprocess\n",
    "from pathlib import Path\n",
    "import numpy as np\n",
    "import plotly.graph_objects as go\n",
    "import pandas as pd"
   ]
  },
  {
   "cell_type": "code",
   "execution_count": 8,
   "id": "ad597238",
   "metadata": {},
   "outputs": [],
   "source": [
    "p = Path('logs')\n",
    "directories = [x.name for x in p.iterdir() if x.is_dir()]\n",
    "lines_dict = {}"
   ]
  },
  {
   "cell_type": "code",
   "execution_count": 9,
   "id": "a07b27b8",
   "metadata": {},
   "outputs": [],
   "source": [
    "def tail(f, n, offset=0):\n",
    "    proc = subprocess.Popen(['tail', '-n', str(n + offset), f], stdout=subprocess.PIPE)\n",
    "    lines = proc.stdout.readlines()\n",
    "    return lines[:offset]\n",
    "\n",
    "def return_result(f):\n",
    "    result = [x.decode(\"utf-8\") for x in tail(f, 7, 2)]\n",
    "    result = [re.findall('\\d+', result[0])[0]] + re.findall('\\d+', result[1])\n",
    "    result = [float(x) for x in result] # length of 7, [deg, wt pz/1-pz, 0.1, 0.3, 0.5, 0.7, 1.0]\n",
    "    return result"
   ]
  },
  {
   "cell_type": "code",
   "execution_count": 10,
   "id": "b0470e13",
   "metadata": {},
   "outputs": [
    {
     "name": "stdout",
     "output_type": "stream",
     "text": [
      "N=1024,K=513,l=128,n=10000,exact=0,RM\n",
      "N=256,K=129,l=128,n=10000,exact=0,RM\n",
      "N=256,K=129,l=128,n=10000,exact=0,PW\n",
      "N=64,K=33,l=128,n=10000,exact=0,RM\n",
      "N=1024,K=513,l=128,n=10000,exact=0,HPW\n",
      "N=1024,K=513,l=128,n=10000,exact=0,PW\n",
      "N=128,K=65,l=128,n=10000,exact=0,RM\n",
      "N=128,K=65,l=128,n=10000,exact=0,PW\n",
      "N=512,K=257,l=128,n=10000,exact=0,RM\n",
      "N=512,K=257,l=128,n=10000,exact=0,PW\n",
      "N=64,K=33,l=128,n=10000,exact=0,PW\n",
      "N=512,K=257,l=128,n=10000,exact=0,HPW\n",
      "N=256,K=129,l=128,n=10000,exact=0,HPW\n",
      "N=128,K=65,l=128,n=10000,exact=0,HPW\n",
      "N=64,K=33,l=128,n=10000,exact=0,HPW\n",
      "N=1024,K=513,l=128,n=10000,exact=0,PW\n",
      "N=1024,K=513,l=128,n=10000,exact=0,HPW\n",
      "N=1024,K=513,l=128,n=10000,exact=0,PW\n",
      "N=1024,K=513,l=128,n=10000,exact=0,HPW\n",
      "N=1024,K=513,l=128,n=10000,exact=0,PW\n",
      "N=1024,K=513,l=128,n=10000,exact=0,HPW\n",
      "N=1024,K=513,l=128,n=10000,exact=0,PW\n",
      "N=1024,K=513,l=128,n=10000,exact=0,PW\n",
      "N=1024,K=513,l=128,n=10000,exact=0,HPW\n",
      "N=1024,K=513,l=128,n=10000,exact=0,HPW\n",
      "N=1024,K=513,l=128,n=10000,exact=0,PW\n",
      "N=1024,K=513,l=128,n=10000,exact=0,HPW\n",
      "N=1024,K=513,l=128,n=10000,exact=0,PW\n",
      "N=1024,K=513,l=128,n=10000,exact=0,HPW\n",
      "N=1024,K=513,l=128,n=10000,exact=0,PW\n",
      "N=1024,K=513,l=128,n=10000,exact=0,HPW\n",
      "N=1024,K=513,l=128,n=10000,exact=0,PW\n",
      "N=1024,K=513,l=128,n=10000,exact=0,HPW\n",
      "N=512,K=257,l=128,n=10000,exact=0,PW\n",
      "N=512,K=257,l=128,n=10000,exact=0,PW\n",
      "N=512,K=257,l=128,n=10000,exact=0,PW\n",
      "N=512,K=257,l=128,n=10000,exact=0,PW\n",
      "N=512,K=257,l=128,n=10000,exact=0,PW\n",
      "N=512,K=257,l=128,n=10000,exact=0,PW\n",
      "N=512,K=257,l=1,n=10000,exact=0,PW\n",
      "N=512,K=257,l=128,n=10000,exact=0,PW\n",
      "N=512,K=257,l=128,n=10000,exact=0,PW\n",
      "N=512,K=257,l=128,n=10000,exact=0,PW\n",
      "N=512,K=257,l=128,n=10000,exact=0,HPW\n",
      "N=512,K=257,l=128,n=10000,exact=0,HPW\n",
      "N=512,K=257,l=128,n=10000,exact=0,HPW\n",
      "N=512,K=257,l=128,n=10000,exact=0,HPW\n",
      "N=512,K=257,l=128,n=10000,exact=0,HPW\n",
      "N=512,K=257,l=128,n=10000,exact=0,HPW\n",
      "N=512,K=257,l=128,n=10000,exact=0,HPW\n",
      "N=512,K=257,l=128,n=10000,exact=0,HPW\n",
      "N=512,K=257,l=128,n=10000,exact=0,HPW\n",
      "N=256,K=129,l=128,n=10000,exact=0,PW\n",
      "N=256,K=129,l=128,n=10000,exact=0,PW\n",
      "N=256,K=129,l=128,n=10000,exact=0,PW\n",
      "N=256,K=129,l=128,n=10000,exact=0,PW\n",
      "N=256,K=129,l=128,n=10000,exact=0,PW\n",
      "N=256,K=129,l=128,n=10000,exact=0,PW\n",
      "N=256,K=129,l=128,n=10000,exact=0,PW\n",
      "N=256,K=129,l=128,n=10000,exact=0,PW\n",
      "N=256,K=129,l=128,n=10000,exact=0,PW\n",
      "N=128,K=65,l=128,n=10000,exact=0,PW\n",
      "N=128,K=65,l=128,n=10000,exact=0,PW\n",
      "N=128,K=65,l=128,n=10000,exact=0,PW\n",
      "N=128,K=65,l=128,n=10000,exact=0,PW\n",
      "N=128,K=65,l=128,n=10000,exact=0,PW\n",
      "N=128,K=65,l=128,n=10000,exact=0,PW\n",
      "N=128,K=65,l=128,n=10000,exact=0,PW\n",
      "N=128,K=65,l=128,n=10000,exact=0,PW\n",
      "N=128,K=65,l=128,n=10000,exact=0,PW\n",
      "N=128,K=65,l=128,n=10000,exact=0,HPW\n",
      "N=128,K=65,l=128,n=10000,exact=0,HPW\n",
      "N=128,K=65,l=128,n=10000,exact=0,HPW\n",
      "N=128,K=65,l=128,n=10000,exact=0,HPW\n",
      "N=128,K=65,l=128,n=10000,exact=0,HPW\n",
      "N=128,K=65,l=128,n=10000,exact=0,HPW\n",
      "N=128,K=65,l=128,n=10000,exact=0,HPW\n",
      "N=128,K=65,l=128,n=10000,exact=0,HPW\n",
      "N=128,K=65,l=128,n=10000,exact=0,HPW\n",
      "N=64,K=33,l=128,n=10000,exact=0,PW\n",
      "N=64,K=33,l=128,n=10000,exact=0,PW\n",
      "N=64,K=33,l=128,n=10000,exact=0,PW\n",
      "N=64,K=33,l=128,n=10000,exact=0,PW\n",
      "N=64,K=33,l=128,n=10000,exact=0,PW\n",
      "N=64,K=33,l=128,n=10000,exact=0,PW\n",
      "N=64,K=33,l=128,n=10000,exact=0,PW\n",
      "N=64,K=33,l=128,n=10000,exact=0,PW\n",
      "N=64,K=33,l=128,n=10000,exact=0,PW\n",
      "N=64,K=33,l=128,n=10000,exact=0,HPW\n",
      "N=64,K=33,l=128,n=10000,exact=0,HPW\n",
      "N=64,K=33,l=128,n=10000,exact=0,HPW\n",
      "N=64,K=33,l=128,n=10000,exact=0,HPW\n",
      "N=64,K=33,l=128,n=10000,exact=0,HPW\n",
      "N=64,K=33,l=128,n=10000,exact=0,HPW\n",
      "N=64,K=33,l=128,n=10000,exact=0,HPW\n",
      "N=64,K=33,l=128,n=10000,exact=0,HPW\n",
      "N=64,K=33,l=128,n=10000,exact=0,HPW\n",
      "N=1024,K=513,l=1,n=10000,exact=0,PW\n",
      "N=256,K=129,l=1,n=10000,exact=0,PW\n",
      "N=2048,K=1025,l=1,n=10000,exact=0,PW\n",
      "N=4096,K=2049,l=1,n=10000,exact=0,PW\n",
      "N=2048,K=1025,l=128,n=10000,exact=0,PW\n",
      "N=2048,K=1025,l=128,n=10000,exact=0,PW\n",
      "N=2048,K=1025,l=128,n=10000,exact=0,PW\n",
      "N=2048,K=1025,l=128,n=10000,exact=0,PW\n",
      "N=2048,K=1025,l=128,n=10000,exact=0,PW\n",
      "N=2048,K=1025,l=128,n=10000,exact=0,PW\n",
      "N=2048,K=1025,l=128,n=10000,exact=0,PW\n",
      "N=2048,K=1025,l=128,n=10000,exact=0,PW\n",
      "N=2048,K=1025,l=128,n=10000,exact=0,PW\n",
      "N=2048,K=1025,l=128,n=10000,exact=0,PW\n"
     ]
    }
   ],
   "source": [
    "for dir in directories:\n",
    "    [N,K,l,s,n,exact] = [''.join(x for x in r if x.isdigit()) for r in dir.split('_')[:-1]]\n",
    "    con = dir.split('_')[-1]\n",
    "    exp_name = 'N='+N+',K='+K+',l='+l+',n='+n+',exact='+exact+','+con\n",
    "    print(exp_name)\n",
    "    q = p / dir\n",
    "    files = list(q.glob('*.log'))\n",
    "    pzs = [''.join(x for x in f.name if x.isdigit()) for f in files]\n",
    "    pzs = np.array([float(pz) for pz in pzs]) / 100.0\n",
    "    results = [return_result(f) for f in files]\n",
    "    deg_err = np.array([x[0] for x in results]) / float(n)\n",
    "    true_weight_err = np.array([x[1] for x in results]) / float(n)\n",
    "    # sort so that the line will be smooth\n",
    "    order = np.argsort(pzs)\n",
    "    pzs = pzs[order]\n",
    "    deg_err = deg_err[order]\n",
    "    true_weight_err = true_weight_err[order]\n",
    "    exp_name_deg = exp_name + ',deg'\n",
    "    exp_name_wt = exp_name + ',wt'\n",
    "    if exp_name_deg not in lines_dict:\n",
    "        lines_dict[exp_name_deg]= (pzs, [deg_err])\n",
    "        lines_dict[exp_name_wt] = (pzs, [true_weight_err])\n",
    "    else:\n",
    "        lines_dict[exp_name_deg][1].append(deg_err)\n",
    "        lines_dict[exp_name_wt][1].append(true_weight_err)"
   ]
  },
  {
   "cell_type": "code",
   "execution_count": 11,
   "id": "710ac400",
   "metadata": {},
   "outputs": [],
   "source": [
    "data_dict = {}\n",
    "for key, value in lines_dict.items():\n",
    "    mean = np.mean(value[1], axis=0)\n",
    "    var = np.std(value[1], axis=0)\n",
    "    data_dict[key] = (value[0], mean, var)\n",
    "    "
   ]
  },
  {
   "cell_type": "code",
   "execution_count": 12,
   "id": "89c09726",
   "metadata": {},
   "outputs": [
    {
     "data": {
      "application/vnd.plotly.v1+json": {
       "config": {
        "plotlyServerURL": "https://plot.ly"
       },
       "data": [
        {
         "error_y": {
          "array": [
           0.00006,
           0.0002692582403567252,
           0.0006000000000000001,
           0.00202210286583052,
           0.0040848622987807075,
           0.0024650557803019444,
           0.004202487358696039,
           0.005668191951583864,
           0.004592439438903894,
           0.006055377775168116,
           0.0036954160794151415,
           0.003515124464368212,
           0.00257021399887247,
           0.004448921217553731,
           0.006034865367180959
          ],
          "type": "data",
          "visible": true
         },
         "name": "N=1024,K=513,l=128,n=10000,exact=0,PW,deg",
         "type": "scatter",
         "x": [
          0.06,
          0.07,
          0.08,
          0.09,
          0.1,
          0.11,
          0.12,
          0.13,
          0.14,
          0.15,
          0.16,
          0.17,
          0.18,
          0.19,
          0.2
         ],
         "y": [
          0.00008000000000000002,
          0.00105,
          0.008400000000000001,
          0.04689,
          0.17407,
          0.36405000000000004,
          0.55679,
          0.68084,
          0.7236499999999999,
          0.7398200000000001,
          0.74533,
          0.7475699999999998,
          0.7498,
          0.74909,
          0.7500199999999999
         ]
        },
        {
         "error_y": {
          "array": [
           0.000049999999999999996,
           0.00023664319132398463,
           0.0008100000000000001,
           0.0019814388711237095,
           0.003560407280073443,
           0.002665332999833226,
           0.004435132467018313,
           0.003937880140380097,
           0.005507277004110098,
           0.004702765144040243,
           0.0042023921758922,
           0.0034188448341508507,
           0.0032220490374915162,
           0.004401011247429387,
           0.0036283467309506136
          ],
          "type": "data",
          "visible": true
         },
         "name": "N=1024,K=513,l=128,n=10000,exact=0,PW,wt",
         "type": "scatter",
         "x": [
          0.06,
          0.07,
          0.08,
          0.09,
          0.1,
          0.11,
          0.12,
          0.13,
          0.14,
          0.15,
          0.16,
          0.17,
          0.18,
          0.19,
          0.2
         ],
         "y": [
          0.00005,
          0.0007000000000000001,
          0.007130000000000002,
          0.04162999999999999,
          0.15594999999999998,
          0.3493,
          0.5448599999999999,
          0.67079,
          0.7195300000000001,
          0.74,
          0.7466299999999999,
          0.74865,
          0.74982,
          0.74979,
          0.75121
         ]
        },
        {
         "error_y": {
          "array": [
           0,
           0,
           0,
           0,
           0,
           0,
           0,
           0,
           0,
           0,
           0,
           0,
           0,
           0,
           0
          ],
          "type": "data",
          "visible": true
         },
         "name": "N=1024,K=513,l=1,n=10000,exact=0,PW,deg",
         "type": "scatter",
         "x": [
          0.06,
          0.07,
          0.08,
          0.09,
          0.1,
          0.11,
          0.12,
          0.13,
          0.14,
          0.15,
          0.16,
          0.17,
          0.18,
          0.19,
          0.2
         ],
         "y": [
          0.0066,
          0.0342,
          0.1039,
          0.2473,
          0.4232,
          0.5698,
          0.6712,
          0.7095,
          0.7472,
          0.7448,
          0.7531,
          0.7524,
          0.7593,
          0.753,
          0.7532
         ]
        },
        {
         "error_y": {
          "array": [
           0,
           0,
           0,
           0,
           0,
           0,
           0,
           0,
           0,
           0,
           0,
           0,
           0,
           0,
           0
          ],
          "type": "data",
          "visible": true
         },
         "name": "N=1024,K=513,l=1,n=10000,exact=0,PW,wt",
         "type": "scatter",
         "x": [
          0.06,
          0.07,
          0.08,
          0.09,
          0.1,
          0.11,
          0.12,
          0.13,
          0.14,
          0.15,
          0.16,
          0.17,
          0.18,
          0.19,
          0.2
         ],
         "y": [
          0.0066,
          0.0342,
          0.1039,
          0.2473,
          0.4232,
          0.5698,
          0.6712,
          0.7095,
          0.7472,
          0.7448,
          0.7531,
          0.7524,
          0.7593,
          0.753,
          0.7532
         ]
        }
       ],
       "layout": {
        "template": {
         "data": {
          "bar": [
           {
            "error_x": {
             "color": "#2a3f5f"
            },
            "error_y": {
             "color": "#2a3f5f"
            },
            "marker": {
             "line": {
              "color": "#E5ECF6",
              "width": 0.5
             },
             "pattern": {
              "fillmode": "overlay",
              "size": 10,
              "solidity": 0.2
             }
            },
            "type": "bar"
           }
          ],
          "barpolar": [
           {
            "marker": {
             "line": {
              "color": "#E5ECF6",
              "width": 0.5
             },
             "pattern": {
              "fillmode": "overlay",
              "size": 10,
              "solidity": 0.2
             }
            },
            "type": "barpolar"
           }
          ],
          "carpet": [
           {
            "aaxis": {
             "endlinecolor": "#2a3f5f",
             "gridcolor": "white",
             "linecolor": "white",
             "minorgridcolor": "white",
             "startlinecolor": "#2a3f5f"
            },
            "baxis": {
             "endlinecolor": "#2a3f5f",
             "gridcolor": "white",
             "linecolor": "white",
             "minorgridcolor": "white",
             "startlinecolor": "#2a3f5f"
            },
            "type": "carpet"
           }
          ],
          "choropleth": [
           {
            "colorbar": {
             "outlinewidth": 0,
             "ticks": ""
            },
            "type": "choropleth"
           }
          ],
          "contour": [
           {
            "colorbar": {
             "outlinewidth": 0,
             "ticks": ""
            },
            "colorscale": [
             [
              0,
              "#0d0887"
             ],
             [
              0.1111111111111111,
              "#46039f"
             ],
             [
              0.2222222222222222,
              "#7201a8"
             ],
             [
              0.3333333333333333,
              "#9c179e"
             ],
             [
              0.4444444444444444,
              "#bd3786"
             ],
             [
              0.5555555555555556,
              "#d8576b"
             ],
             [
              0.6666666666666666,
              "#ed7953"
             ],
             [
              0.7777777777777778,
              "#fb9f3a"
             ],
             [
              0.8888888888888888,
              "#fdca26"
             ],
             [
              1,
              "#f0f921"
             ]
            ],
            "type": "contour"
           }
          ],
          "contourcarpet": [
           {
            "colorbar": {
             "outlinewidth": 0,
             "ticks": ""
            },
            "type": "contourcarpet"
           }
          ],
          "heatmap": [
           {
            "colorbar": {
             "outlinewidth": 0,
             "ticks": ""
            },
            "colorscale": [
             [
              0,
              "#0d0887"
             ],
             [
              0.1111111111111111,
              "#46039f"
             ],
             [
              0.2222222222222222,
              "#7201a8"
             ],
             [
              0.3333333333333333,
              "#9c179e"
             ],
             [
              0.4444444444444444,
              "#bd3786"
             ],
             [
              0.5555555555555556,
              "#d8576b"
             ],
             [
              0.6666666666666666,
              "#ed7953"
             ],
             [
              0.7777777777777778,
              "#fb9f3a"
             ],
             [
              0.8888888888888888,
              "#fdca26"
             ],
             [
              1,
              "#f0f921"
             ]
            ],
            "type": "heatmap"
           }
          ],
          "heatmapgl": [
           {
            "colorbar": {
             "outlinewidth": 0,
             "ticks": ""
            },
            "colorscale": [
             [
              0,
              "#0d0887"
             ],
             [
              0.1111111111111111,
              "#46039f"
             ],
             [
              0.2222222222222222,
              "#7201a8"
             ],
             [
              0.3333333333333333,
              "#9c179e"
             ],
             [
              0.4444444444444444,
              "#bd3786"
             ],
             [
              0.5555555555555556,
              "#d8576b"
             ],
             [
              0.6666666666666666,
              "#ed7953"
             ],
             [
              0.7777777777777778,
              "#fb9f3a"
             ],
             [
              0.8888888888888888,
              "#fdca26"
             ],
             [
              1,
              "#f0f921"
             ]
            ],
            "type": "heatmapgl"
           }
          ],
          "histogram": [
           {
            "marker": {
             "pattern": {
              "fillmode": "overlay",
              "size": 10,
              "solidity": 0.2
             }
            },
            "type": "histogram"
           }
          ],
          "histogram2d": [
           {
            "colorbar": {
             "outlinewidth": 0,
             "ticks": ""
            },
            "colorscale": [
             [
              0,
              "#0d0887"
             ],
             [
              0.1111111111111111,
              "#46039f"
             ],
             [
              0.2222222222222222,
              "#7201a8"
             ],
             [
              0.3333333333333333,
              "#9c179e"
             ],
             [
              0.4444444444444444,
              "#bd3786"
             ],
             [
              0.5555555555555556,
              "#d8576b"
             ],
             [
              0.6666666666666666,
              "#ed7953"
             ],
             [
              0.7777777777777778,
              "#fb9f3a"
             ],
             [
              0.8888888888888888,
              "#fdca26"
             ],
             [
              1,
              "#f0f921"
             ]
            ],
            "type": "histogram2d"
           }
          ],
          "histogram2dcontour": [
           {
            "colorbar": {
             "outlinewidth": 0,
             "ticks": ""
            },
            "colorscale": [
             [
              0,
              "#0d0887"
             ],
             [
              0.1111111111111111,
              "#46039f"
             ],
             [
              0.2222222222222222,
              "#7201a8"
             ],
             [
              0.3333333333333333,
              "#9c179e"
             ],
             [
              0.4444444444444444,
              "#bd3786"
             ],
             [
              0.5555555555555556,
              "#d8576b"
             ],
             [
              0.6666666666666666,
              "#ed7953"
             ],
             [
              0.7777777777777778,
              "#fb9f3a"
             ],
             [
              0.8888888888888888,
              "#fdca26"
             ],
             [
              1,
              "#f0f921"
             ]
            ],
            "type": "histogram2dcontour"
           }
          ],
          "mesh3d": [
           {
            "colorbar": {
             "outlinewidth": 0,
             "ticks": ""
            },
            "type": "mesh3d"
           }
          ],
          "parcoords": [
           {
            "line": {
             "colorbar": {
              "outlinewidth": 0,
              "ticks": ""
             }
            },
            "type": "parcoords"
           }
          ],
          "pie": [
           {
            "automargin": true,
            "type": "pie"
           }
          ],
          "scatter": [
           {
            "fillpattern": {
             "fillmode": "overlay",
             "size": 10,
             "solidity": 0.2
            },
            "type": "scatter"
           }
          ],
          "scatter3d": [
           {
            "line": {
             "colorbar": {
              "outlinewidth": 0,
              "ticks": ""
             }
            },
            "marker": {
             "colorbar": {
              "outlinewidth": 0,
              "ticks": ""
             }
            },
            "type": "scatter3d"
           }
          ],
          "scattercarpet": [
           {
            "marker": {
             "colorbar": {
              "outlinewidth": 0,
              "ticks": ""
             }
            },
            "type": "scattercarpet"
           }
          ],
          "scattergeo": [
           {
            "marker": {
             "colorbar": {
              "outlinewidth": 0,
              "ticks": ""
             }
            },
            "type": "scattergeo"
           }
          ],
          "scattergl": [
           {
            "marker": {
             "colorbar": {
              "outlinewidth": 0,
              "ticks": ""
             }
            },
            "type": "scattergl"
           }
          ],
          "scattermapbox": [
           {
            "marker": {
             "colorbar": {
              "outlinewidth": 0,
              "ticks": ""
             }
            },
            "type": "scattermapbox"
           }
          ],
          "scatterpolar": [
           {
            "marker": {
             "colorbar": {
              "outlinewidth": 0,
              "ticks": ""
             }
            },
            "type": "scatterpolar"
           }
          ],
          "scatterpolargl": [
           {
            "marker": {
             "colorbar": {
              "outlinewidth": 0,
              "ticks": ""
             }
            },
            "type": "scatterpolargl"
           }
          ],
          "scatterternary": [
           {
            "marker": {
             "colorbar": {
              "outlinewidth": 0,
              "ticks": ""
             }
            },
            "type": "scatterternary"
           }
          ],
          "surface": [
           {
            "colorbar": {
             "outlinewidth": 0,
             "ticks": ""
            },
            "colorscale": [
             [
              0,
              "#0d0887"
             ],
             [
              0.1111111111111111,
              "#46039f"
             ],
             [
              0.2222222222222222,
              "#7201a8"
             ],
             [
              0.3333333333333333,
              "#9c179e"
             ],
             [
              0.4444444444444444,
              "#bd3786"
             ],
             [
              0.5555555555555556,
              "#d8576b"
             ],
             [
              0.6666666666666666,
              "#ed7953"
             ],
             [
              0.7777777777777778,
              "#fb9f3a"
             ],
             [
              0.8888888888888888,
              "#fdca26"
             ],
             [
              1,
              "#f0f921"
             ]
            ],
            "type": "surface"
           }
          ],
          "table": [
           {
            "cells": {
             "fill": {
              "color": "#EBF0F8"
             },
             "line": {
              "color": "white"
             }
            },
            "header": {
             "fill": {
              "color": "#C8D4E3"
             },
             "line": {
              "color": "white"
             }
            },
            "type": "table"
           }
          ]
         },
         "layout": {
          "annotationdefaults": {
           "arrowcolor": "#2a3f5f",
           "arrowhead": 0,
           "arrowwidth": 1
          },
          "autotypenumbers": "strict",
          "coloraxis": {
           "colorbar": {
            "outlinewidth": 0,
            "ticks": ""
           }
          },
          "colorscale": {
           "diverging": [
            [
             0,
             "#8e0152"
            ],
            [
             0.1,
             "#c51b7d"
            ],
            [
             0.2,
             "#de77ae"
            ],
            [
             0.3,
             "#f1b6da"
            ],
            [
             0.4,
             "#fde0ef"
            ],
            [
             0.5,
             "#f7f7f7"
            ],
            [
             0.6,
             "#e6f5d0"
            ],
            [
             0.7,
             "#b8e186"
            ],
            [
             0.8,
             "#7fbc41"
            ],
            [
             0.9,
             "#4d9221"
            ],
            [
             1,
             "#276419"
            ]
           ],
           "sequential": [
            [
             0,
             "#0d0887"
            ],
            [
             0.1111111111111111,
             "#46039f"
            ],
            [
             0.2222222222222222,
             "#7201a8"
            ],
            [
             0.3333333333333333,
             "#9c179e"
            ],
            [
             0.4444444444444444,
             "#bd3786"
            ],
            [
             0.5555555555555556,
             "#d8576b"
            ],
            [
             0.6666666666666666,
             "#ed7953"
            ],
            [
             0.7777777777777778,
             "#fb9f3a"
            ],
            [
             0.8888888888888888,
             "#fdca26"
            ],
            [
             1,
             "#f0f921"
            ]
           ],
           "sequentialminus": [
            [
             0,
             "#0d0887"
            ],
            [
             0.1111111111111111,
             "#46039f"
            ],
            [
             0.2222222222222222,
             "#7201a8"
            ],
            [
             0.3333333333333333,
             "#9c179e"
            ],
            [
             0.4444444444444444,
             "#bd3786"
            ],
            [
             0.5555555555555556,
             "#d8576b"
            ],
            [
             0.6666666666666666,
             "#ed7953"
            ],
            [
             0.7777777777777778,
             "#fb9f3a"
            ],
            [
             0.8888888888888888,
             "#fdca26"
            ],
            [
             1,
             "#f0f921"
            ]
           ]
          },
          "colorway": [
           "#636efa",
           "#EF553B",
           "#00cc96",
           "#ab63fa",
           "#FFA15A",
           "#19d3f3",
           "#FF6692",
           "#B6E880",
           "#FF97FF",
           "#FECB52"
          ],
          "font": {
           "color": "#2a3f5f"
          },
          "geo": {
           "bgcolor": "white",
           "lakecolor": "white",
           "landcolor": "#E5ECF6",
           "showlakes": true,
           "showland": true,
           "subunitcolor": "white"
          },
          "hoverlabel": {
           "align": "left"
          },
          "hovermode": "closest",
          "mapbox": {
           "style": "light"
          },
          "paper_bgcolor": "white",
          "plot_bgcolor": "#E5ECF6",
          "polar": {
           "angularaxis": {
            "gridcolor": "white",
            "linecolor": "white",
            "ticks": ""
           },
           "bgcolor": "#E5ECF6",
           "radialaxis": {
            "gridcolor": "white",
            "linecolor": "white",
            "ticks": ""
           }
          },
          "scene": {
           "xaxis": {
            "backgroundcolor": "#E5ECF6",
            "gridcolor": "white",
            "gridwidth": 2,
            "linecolor": "white",
            "showbackground": true,
            "ticks": "",
            "zerolinecolor": "white"
           },
           "yaxis": {
            "backgroundcolor": "#E5ECF6",
            "gridcolor": "white",
            "gridwidth": 2,
            "linecolor": "white",
            "showbackground": true,
            "ticks": "",
            "zerolinecolor": "white"
           },
           "zaxis": {
            "backgroundcolor": "#E5ECF6",
            "gridcolor": "white",
            "gridwidth": 2,
            "linecolor": "white",
            "showbackground": true,
            "ticks": "",
            "zerolinecolor": "white"
           }
          },
          "shapedefaults": {
           "line": {
            "color": "#2a3f5f"
           }
          },
          "ternary": {
           "aaxis": {
            "gridcolor": "white",
            "linecolor": "white",
            "ticks": ""
           },
           "baxis": {
            "gridcolor": "white",
            "linecolor": "white",
            "ticks": ""
           },
           "bgcolor": "#E5ECF6",
           "caxis": {
            "gridcolor": "white",
            "linecolor": "white",
            "ticks": ""
           }
          },
          "title": {
           "x": 0.05
          },
          "xaxis": {
           "automargin": true,
           "gridcolor": "white",
           "linecolor": "white",
           "ticks": "",
           "title": {
            "standoff": 15
           },
           "zerolinecolor": "white",
           "zerolinewidth": 2
          },
          "yaxis": {
           "automargin": true,
           "gridcolor": "white",
           "linecolor": "white",
           "ticks": "",
           "title": {
            "standoff": 15
           },
           "zerolinecolor": "white",
           "zerolinewidth": 2
          }
         }
        }
       }
      },
      "text/html": [
       "<div>                            <div id=\"6c887e5a-5d77-4286-9c52-685166e4019c\" class=\"plotly-graph-div\" style=\"height:525px; width:100%;\"></div>            <script type=\"text/javascript\">                require([\"plotly\"], function(Plotly) {                    window.PLOTLYENV=window.PLOTLYENV || {};                                    if (document.getElementById(\"6c887e5a-5d77-4286-9c52-685166e4019c\")) {                    Plotly.newPlot(                        \"6c887e5a-5d77-4286-9c52-685166e4019c\",                        [{\"error_y\":{\"array\":[6e-05,0.0002692582403567252,0.0006000000000000001,0.00202210286583052,0.0040848622987807075,0.0024650557803019444,0.004202487358696039,0.005668191951583864,0.004592439438903894,0.006055377775168116,0.0036954160794151415,0.003515124464368212,0.00257021399887247,0.004448921217553731,0.006034865367180959],\"type\":\"data\",\"visible\":true},\"name\":\"N=1024,K=513,l=128,n=10000,exact=0,PW,deg\",\"x\":[0.06,0.07,0.08,0.09,0.1,0.11,0.12,0.13,0.14,0.15,0.16,0.17,0.18,0.19,0.2],\"y\":[8.000000000000002e-05,0.00105,0.008400000000000001,0.04689,0.17407,0.36405000000000004,0.55679,0.68084,0.7236499999999999,0.7398200000000001,0.74533,0.7475699999999998,0.7498,0.74909,0.7500199999999999],\"type\":\"scatter\"},{\"error_y\":{\"array\":[4.9999999999999996e-05,0.00023664319132398463,0.0008100000000000001,0.0019814388711237095,0.003560407280073443,0.002665332999833226,0.004435132467018313,0.003937880140380097,0.005507277004110098,0.004702765144040243,0.0042023921758922,0.0034188448341508507,0.0032220490374915162,0.004401011247429387,0.0036283467309506136],\"type\":\"data\",\"visible\":true},\"name\":\"N=1024,K=513,l=128,n=10000,exact=0,PW,wt\",\"x\":[0.06,0.07,0.08,0.09,0.1,0.11,0.12,0.13,0.14,0.15,0.16,0.17,0.18,0.19,0.2],\"y\":[5e-05,0.0007000000000000001,0.007130000000000002,0.04162999999999999,0.15594999999999998,0.3493,0.5448599999999999,0.67079,0.7195300000000001,0.74,0.7466299999999999,0.74865,0.74982,0.74979,0.75121],\"type\":\"scatter\"},{\"error_y\":{\"array\":[0.0,0.0,0.0,0.0,0.0,0.0,0.0,0.0,0.0,0.0,0.0,0.0,0.0,0.0,0.0],\"type\":\"data\",\"visible\":true},\"name\":\"N=1024,K=513,l=1,n=10000,exact=0,PW,deg\",\"x\":[0.06,0.07,0.08,0.09,0.1,0.11,0.12,0.13,0.14,0.15,0.16,0.17,0.18,0.19,0.2],\"y\":[0.0066,0.0342,0.1039,0.2473,0.4232,0.5698,0.6712,0.7095,0.7472,0.7448,0.7531,0.7524,0.7593,0.753,0.7532],\"type\":\"scatter\"},{\"error_y\":{\"array\":[0.0,0.0,0.0,0.0,0.0,0.0,0.0,0.0,0.0,0.0,0.0,0.0,0.0,0.0,0.0],\"type\":\"data\",\"visible\":true},\"name\":\"N=1024,K=513,l=1,n=10000,exact=0,PW,wt\",\"x\":[0.06,0.07,0.08,0.09,0.1,0.11,0.12,0.13,0.14,0.15,0.16,0.17,0.18,0.19,0.2],\"y\":[0.0066,0.0342,0.1039,0.2473,0.4232,0.5698,0.6712,0.7095,0.7472,0.7448,0.7531,0.7524,0.7593,0.753,0.7532],\"type\":\"scatter\"}],                        {\"template\":{\"data\":{\"histogram2dcontour\":[{\"type\":\"histogram2dcontour\",\"colorbar\":{\"outlinewidth\":0,\"ticks\":\"\"},\"colorscale\":[[0.0,\"#0d0887\"],[0.1111111111111111,\"#46039f\"],[0.2222222222222222,\"#7201a8\"],[0.3333333333333333,\"#9c179e\"],[0.4444444444444444,\"#bd3786\"],[0.5555555555555556,\"#d8576b\"],[0.6666666666666666,\"#ed7953\"],[0.7777777777777778,\"#fb9f3a\"],[0.8888888888888888,\"#fdca26\"],[1.0,\"#f0f921\"]]}],\"choropleth\":[{\"type\":\"choropleth\",\"colorbar\":{\"outlinewidth\":0,\"ticks\":\"\"}}],\"histogram2d\":[{\"type\":\"histogram2d\",\"colorbar\":{\"outlinewidth\":0,\"ticks\":\"\"},\"colorscale\":[[0.0,\"#0d0887\"],[0.1111111111111111,\"#46039f\"],[0.2222222222222222,\"#7201a8\"],[0.3333333333333333,\"#9c179e\"],[0.4444444444444444,\"#bd3786\"],[0.5555555555555556,\"#d8576b\"],[0.6666666666666666,\"#ed7953\"],[0.7777777777777778,\"#fb9f3a\"],[0.8888888888888888,\"#fdca26\"],[1.0,\"#f0f921\"]]}],\"heatmap\":[{\"type\":\"heatmap\",\"colorbar\":{\"outlinewidth\":0,\"ticks\":\"\"},\"colorscale\":[[0.0,\"#0d0887\"],[0.1111111111111111,\"#46039f\"],[0.2222222222222222,\"#7201a8\"],[0.3333333333333333,\"#9c179e\"],[0.4444444444444444,\"#bd3786\"],[0.5555555555555556,\"#d8576b\"],[0.6666666666666666,\"#ed7953\"],[0.7777777777777778,\"#fb9f3a\"],[0.8888888888888888,\"#fdca26\"],[1.0,\"#f0f921\"]]}],\"heatmapgl\":[{\"type\":\"heatmapgl\",\"colorbar\":{\"outlinewidth\":0,\"ticks\":\"\"},\"colorscale\":[[0.0,\"#0d0887\"],[0.1111111111111111,\"#46039f\"],[0.2222222222222222,\"#7201a8\"],[0.3333333333333333,\"#9c179e\"],[0.4444444444444444,\"#bd3786\"],[0.5555555555555556,\"#d8576b\"],[0.6666666666666666,\"#ed7953\"],[0.7777777777777778,\"#fb9f3a\"],[0.8888888888888888,\"#fdca26\"],[1.0,\"#f0f921\"]]}],\"contourcarpet\":[{\"type\":\"contourcarpet\",\"colorbar\":{\"outlinewidth\":0,\"ticks\":\"\"}}],\"contour\":[{\"type\":\"contour\",\"colorbar\":{\"outlinewidth\":0,\"ticks\":\"\"},\"colorscale\":[[0.0,\"#0d0887\"],[0.1111111111111111,\"#46039f\"],[0.2222222222222222,\"#7201a8\"],[0.3333333333333333,\"#9c179e\"],[0.4444444444444444,\"#bd3786\"],[0.5555555555555556,\"#d8576b\"],[0.6666666666666666,\"#ed7953\"],[0.7777777777777778,\"#fb9f3a\"],[0.8888888888888888,\"#fdca26\"],[1.0,\"#f0f921\"]]}],\"surface\":[{\"type\":\"surface\",\"colorbar\":{\"outlinewidth\":0,\"ticks\":\"\"},\"colorscale\":[[0.0,\"#0d0887\"],[0.1111111111111111,\"#46039f\"],[0.2222222222222222,\"#7201a8\"],[0.3333333333333333,\"#9c179e\"],[0.4444444444444444,\"#bd3786\"],[0.5555555555555556,\"#d8576b\"],[0.6666666666666666,\"#ed7953\"],[0.7777777777777778,\"#fb9f3a\"],[0.8888888888888888,\"#fdca26\"],[1.0,\"#f0f921\"]]}],\"mesh3d\":[{\"type\":\"mesh3d\",\"colorbar\":{\"outlinewidth\":0,\"ticks\":\"\"}}],\"scatter\":[{\"fillpattern\":{\"fillmode\":\"overlay\",\"size\":10,\"solidity\":0.2},\"type\":\"scatter\"}],\"parcoords\":[{\"type\":\"parcoords\",\"line\":{\"colorbar\":{\"outlinewidth\":0,\"ticks\":\"\"}}}],\"scatterpolargl\":[{\"type\":\"scatterpolargl\",\"marker\":{\"colorbar\":{\"outlinewidth\":0,\"ticks\":\"\"}}}],\"bar\":[{\"error_x\":{\"color\":\"#2a3f5f\"},\"error_y\":{\"color\":\"#2a3f5f\"},\"marker\":{\"line\":{\"color\":\"#E5ECF6\",\"width\":0.5},\"pattern\":{\"fillmode\":\"overlay\",\"size\":10,\"solidity\":0.2}},\"type\":\"bar\"}],\"scattergeo\":[{\"type\":\"scattergeo\",\"marker\":{\"colorbar\":{\"outlinewidth\":0,\"ticks\":\"\"}}}],\"scatterpolar\":[{\"type\":\"scatterpolar\",\"marker\":{\"colorbar\":{\"outlinewidth\":0,\"ticks\":\"\"}}}],\"histogram\":[{\"marker\":{\"pattern\":{\"fillmode\":\"overlay\",\"size\":10,\"solidity\":0.2}},\"type\":\"histogram\"}],\"scattergl\":[{\"type\":\"scattergl\",\"marker\":{\"colorbar\":{\"outlinewidth\":0,\"ticks\":\"\"}}}],\"scatter3d\":[{\"type\":\"scatter3d\",\"line\":{\"colorbar\":{\"outlinewidth\":0,\"ticks\":\"\"}},\"marker\":{\"colorbar\":{\"outlinewidth\":0,\"ticks\":\"\"}}}],\"scattermapbox\":[{\"type\":\"scattermapbox\",\"marker\":{\"colorbar\":{\"outlinewidth\":0,\"ticks\":\"\"}}}],\"scatterternary\":[{\"type\":\"scatterternary\",\"marker\":{\"colorbar\":{\"outlinewidth\":0,\"ticks\":\"\"}}}],\"scattercarpet\":[{\"type\":\"scattercarpet\",\"marker\":{\"colorbar\":{\"outlinewidth\":0,\"ticks\":\"\"}}}],\"carpet\":[{\"aaxis\":{\"endlinecolor\":\"#2a3f5f\",\"gridcolor\":\"white\",\"linecolor\":\"white\",\"minorgridcolor\":\"white\",\"startlinecolor\":\"#2a3f5f\"},\"baxis\":{\"endlinecolor\":\"#2a3f5f\",\"gridcolor\":\"white\",\"linecolor\":\"white\",\"minorgridcolor\":\"white\",\"startlinecolor\":\"#2a3f5f\"},\"type\":\"carpet\"}],\"table\":[{\"cells\":{\"fill\":{\"color\":\"#EBF0F8\"},\"line\":{\"color\":\"white\"}},\"header\":{\"fill\":{\"color\":\"#C8D4E3\"},\"line\":{\"color\":\"white\"}},\"type\":\"table\"}],\"barpolar\":[{\"marker\":{\"line\":{\"color\":\"#E5ECF6\",\"width\":0.5},\"pattern\":{\"fillmode\":\"overlay\",\"size\":10,\"solidity\":0.2}},\"type\":\"barpolar\"}],\"pie\":[{\"automargin\":true,\"type\":\"pie\"}]},\"layout\":{\"autotypenumbers\":\"strict\",\"colorway\":[\"#636efa\",\"#EF553B\",\"#00cc96\",\"#ab63fa\",\"#FFA15A\",\"#19d3f3\",\"#FF6692\",\"#B6E880\",\"#FF97FF\",\"#FECB52\"],\"font\":{\"color\":\"#2a3f5f\"},\"hovermode\":\"closest\",\"hoverlabel\":{\"align\":\"left\"},\"paper_bgcolor\":\"white\",\"plot_bgcolor\":\"#E5ECF6\",\"polar\":{\"bgcolor\":\"#E5ECF6\",\"angularaxis\":{\"gridcolor\":\"white\",\"linecolor\":\"white\",\"ticks\":\"\"},\"radialaxis\":{\"gridcolor\":\"white\",\"linecolor\":\"white\",\"ticks\":\"\"}},\"ternary\":{\"bgcolor\":\"#E5ECF6\",\"aaxis\":{\"gridcolor\":\"white\",\"linecolor\":\"white\",\"ticks\":\"\"},\"baxis\":{\"gridcolor\":\"white\",\"linecolor\":\"white\",\"ticks\":\"\"},\"caxis\":{\"gridcolor\":\"white\",\"linecolor\":\"white\",\"ticks\":\"\"}},\"coloraxis\":{\"colorbar\":{\"outlinewidth\":0,\"ticks\":\"\"}},\"colorscale\":{\"sequential\":[[0.0,\"#0d0887\"],[0.1111111111111111,\"#46039f\"],[0.2222222222222222,\"#7201a8\"],[0.3333333333333333,\"#9c179e\"],[0.4444444444444444,\"#bd3786\"],[0.5555555555555556,\"#d8576b\"],[0.6666666666666666,\"#ed7953\"],[0.7777777777777778,\"#fb9f3a\"],[0.8888888888888888,\"#fdca26\"],[1.0,\"#f0f921\"]],\"sequentialminus\":[[0.0,\"#0d0887\"],[0.1111111111111111,\"#46039f\"],[0.2222222222222222,\"#7201a8\"],[0.3333333333333333,\"#9c179e\"],[0.4444444444444444,\"#bd3786\"],[0.5555555555555556,\"#d8576b\"],[0.6666666666666666,\"#ed7953\"],[0.7777777777777778,\"#fb9f3a\"],[0.8888888888888888,\"#fdca26\"],[1.0,\"#f0f921\"]],\"diverging\":[[0,\"#8e0152\"],[0.1,\"#c51b7d\"],[0.2,\"#de77ae\"],[0.3,\"#f1b6da\"],[0.4,\"#fde0ef\"],[0.5,\"#f7f7f7\"],[0.6,\"#e6f5d0\"],[0.7,\"#b8e186\"],[0.8,\"#7fbc41\"],[0.9,\"#4d9221\"],[1,\"#276419\"]]},\"xaxis\":{\"gridcolor\":\"white\",\"linecolor\":\"white\",\"ticks\":\"\",\"title\":{\"standoff\":15},\"zerolinecolor\":\"white\",\"automargin\":true,\"zerolinewidth\":2},\"yaxis\":{\"gridcolor\":\"white\",\"linecolor\":\"white\",\"ticks\":\"\",\"title\":{\"standoff\":15},\"zerolinecolor\":\"white\",\"automargin\":true,\"zerolinewidth\":2},\"scene\":{\"xaxis\":{\"backgroundcolor\":\"#E5ECF6\",\"gridcolor\":\"white\",\"linecolor\":\"white\",\"showbackground\":true,\"ticks\":\"\",\"zerolinecolor\":\"white\",\"gridwidth\":2},\"yaxis\":{\"backgroundcolor\":\"#E5ECF6\",\"gridcolor\":\"white\",\"linecolor\":\"white\",\"showbackground\":true,\"ticks\":\"\",\"zerolinecolor\":\"white\",\"gridwidth\":2},\"zaxis\":{\"backgroundcolor\":\"#E5ECF6\",\"gridcolor\":\"white\",\"linecolor\":\"white\",\"showbackground\":true,\"ticks\":\"\",\"zerolinecolor\":\"white\",\"gridwidth\":2}},\"shapedefaults\":{\"line\":{\"color\":\"#2a3f5f\"}},\"annotationdefaults\":{\"arrowcolor\":\"#2a3f5f\",\"arrowhead\":0,\"arrowwidth\":1},\"geo\":{\"bgcolor\":\"white\",\"landcolor\":\"#E5ECF6\",\"subunitcolor\":\"white\",\"showland\":true,\"showlakes\":true,\"lakecolor\":\"white\"},\"title\":{\"x\":0.05},\"mapbox\":{\"style\":\"light\"}}}},                        {\"responsive\": true}                    ).then(function(){\n",
       "                            \n",
       "var gd = document.getElementById('6c887e5a-5d77-4286-9c52-685166e4019c');\n",
       "var x = new MutationObserver(function (mutations, observer) {{\n",
       "        var display = window.getComputedStyle(gd).display;\n",
       "        if (!display || display === 'none') {{\n",
       "            console.log([gd, 'removed!']);\n",
       "            Plotly.purge(gd);\n",
       "            observer.disconnect();\n",
       "        }}\n",
       "}});\n",
       "\n",
       "// Listen for the removal of the full notebook cells\n",
       "var notebookContainer = gd.closest('#notebook-container');\n",
       "if (notebookContainer) {{\n",
       "    x.observe(notebookContainer, {childList: true});\n",
       "}}\n",
       "\n",
       "// Listen for the clearing of the current output cell\n",
       "var outputEl = gd.closest('.output');\n",
       "if (outputEl) {{\n",
       "    x.observe(outputEl, {childList: true});\n",
       "}}\n",
       "\n",
       "                        })                };                });            </script>        </div>"
      ]
     },
     "metadata": {},
     "output_type": "display_data"
    }
   ],
   "source": [
    "fig = go.Figure()\n",
    "\n",
    "for x,y in data_dict.items():\n",
    "    if ('RM' in x) or ('HPW' in x) or ('1024' not in x):\n",
    "        continue\n",
    "    fig.add_scatter(x=y[0], y=y[1], error_y=dict(type='data', array=y[2], visible=True), name=x)\n",
    "    # fig.add_trace(go.Scatter(x=y[0], y=y[1], mode='lines+markers', name=x))\n",
    "\n",
    "fig.show()"
   ]
  },
  {
   "cell_type": "code",
   "execution_count": 13,
   "id": "f2ac5df0",
   "metadata": {},
   "outputs": [
    {
     "data": {
      "application/vnd.plotly.v1+json": {
       "config": {
        "plotlyServerURL": "https://plot.ly"
       },
       "data": [
        {
         "error_y": {
          "array": [
           0.0007915175298121959,
           0.0011234322409473566,
           0.002332037735543747,
           0.0028185102447924482,
           0.00302722645337279,
           0.003082790943284991,
           0.004829503080028,
           0.0067895213380620495,
           0.004479296819814461,
           0.0038849581722330087,
           0.0060089017299336835,
           0.004092199897365723,
           0.003202639536382442,
           0.005025892955485614,
           0.003974871067091354
          ],
          "type": "data",
          "visible": true
         },
         "name": "N=256,K=129,l=128,n=10000,exact=0,PW,deg",
         "type": "scatter",
         "x": [
          0.06,
          0.07,
          0.08,
          0.09,
          0.1,
          0.11,
          0.12,
          0.13,
          0.14,
          0.15,
          0.16,
          0.17,
          0.18,
          0.19,
          0.2
         ],
         "y": [
          0.00885,
          0.02793,
          0.06616,
          0.1323,
          0.23062999999999997,
          0.33272,
          0.44333,
          0.5512799999999999,
          0.61193,
          0.66701,
          0.7055900000000002,
          0.7211299999999999,
          0.7363099999999999,
          0.73962,
          0.7450199999999999
         ]
        },
        {
         "error_y": {
          "array": [
           0.0007433034373659253,
           0.0015249918032566603,
           0.001654085850250827,
           0.003343590884064616,
           0.003523705436043143,
           0.003959406521184712,
           0.005166623655734949,
           0.005566363265184902,
           0.004644362173646659,
           0.004263848027310531,
           0.005038015482310477,
           0.0047076639642183536,
           0.004343374264324923,
           0.00451996681403746,
           0.004626056636056227
          ],
          "type": "data",
          "visible": true
         },
         "name": "N=256,K=129,l=128,n=10000,exact=0,PW,wt",
         "type": "scatter",
         "x": [
          0.06,
          0.07,
          0.08,
          0.09,
          0.1,
          0.11,
          0.12,
          0.13,
          0.14,
          0.15,
          0.16,
          0.17,
          0.18,
          0.19,
          0.2
         ],
         "y": [
          0.00775,
          0.02368,
          0.05790000000000001,
          0.11757999999999999,
          0.20444999999999997,
          0.30761000000000005,
          0.4168,
          0.51906,
          0.5956299999999999,
          0.6533399999999999,
          0.69038,
          0.71587,
          0.73051,
          0.7384299999999999,
          0.7431599999999999
         ]
        },
        {
         "error_y": {
          "array": [
           0.0000458257569495584,
           0.00025475478405713995,
           0.0005513619500836089,
           0.001863223014027038,
           0.005375834818890922,
           0.004294601262049834,
           0.002878541297254577,
           0.0031681066901226816,
           0.0038763513772618733,
           0.0046020538892976946,
           0.005618371650220374,
           0.0041249121202760084,
           0.0029033773437154124,
           0.0039393400462514,
           0.004269063129071763
          ],
          "type": "data",
          "visible": true
         },
         "name": "N=1024,K=513,l=128,n=10000,exact=0,HPW,deg",
         "type": "scatter",
         "x": [
          0.06,
          0.07,
          0.08,
          0.09,
          0.1,
          0.11,
          0.12,
          0.13,
          0.14,
          0.15,
          0.16,
          0.17,
          0.18,
          0.19,
          0.2
         ],
         "y": [
          0.000030000000000000004,
          0.00051,
          0.005399999999999999,
          0.03758,
          0.16158,
          0.36678,
          0.5728000000000001,
          0.69089,
          0.73127,
          0.7435100000000001,
          0.74807,
          0.74739,
          0.74922,
          0.74966,
          0.7514899999999999
         ]
        },
        {
         "error_y": {
          "array": [
           0.000045825756949558395,
           0.0002039607805437114,
           0.0005330103188494574,
           0.001767597239192232,
           0.004094337553255713,
           0.0038389581920099066,
           0.003617457670795892,
           0.005336712471175483,
           0.004772797921555023,
           0.004787368797157783,
           0.004340149767001126,
           0.004114668880967238,
           0.004668789993135267,
           0.00332873849979237,
           0.002789336838748587
          ],
          "type": "data",
          "visible": true
         },
         "name": "N=1024,K=513,l=128,n=10000,exact=0,HPW,wt",
         "type": "scatter",
         "x": [
          0.06,
          0.07,
          0.08,
          0.09,
          0.1,
          0.11,
          0.12,
          0.13,
          0.14,
          0.15,
          0.16,
          0.17,
          0.18,
          0.19,
          0.2
         ],
         "y": [
          0.000030000000000000004,
          0.00041999999999999996,
          0.00473,
          0.03406,
          0.14828,
          0.35372000000000003,
          0.5628,
          0.6850499999999999,
          0.72802,
          0.74259,
          0.7484099999999999,
          0.74705,
          0.7501799999999998,
          0.74895,
          0.75034
         ]
        },
        {
         "error_y": {
          "array": [
           0.00006,
           0.0002692582403567252,
           0.0006000000000000001,
           0.00202210286583052,
           0.0040848622987807075,
           0.0024650557803019444,
           0.004202487358696039,
           0.005668191951583864,
           0.004592439438903894,
           0.006055377775168116,
           0.0036954160794151415,
           0.003515124464368212,
           0.00257021399887247,
           0.004448921217553731,
           0.006034865367180959
          ],
          "type": "data",
          "visible": true
         },
         "name": "N=1024,K=513,l=128,n=10000,exact=0,PW,deg",
         "type": "scatter",
         "x": [
          0.06,
          0.07,
          0.08,
          0.09,
          0.1,
          0.11,
          0.12,
          0.13,
          0.14,
          0.15,
          0.16,
          0.17,
          0.18,
          0.19,
          0.2
         ],
         "y": [
          0.00008000000000000002,
          0.00105,
          0.008400000000000001,
          0.04689,
          0.17407,
          0.36405000000000004,
          0.55679,
          0.68084,
          0.7236499999999999,
          0.7398200000000001,
          0.74533,
          0.7475699999999998,
          0.7498,
          0.74909,
          0.7500199999999999
         ]
        },
        {
         "error_y": {
          "array": [
           0.000049999999999999996,
           0.00023664319132398463,
           0.0008100000000000001,
           0.0019814388711237095,
           0.003560407280073443,
           0.002665332999833226,
           0.004435132467018313,
           0.003937880140380097,
           0.005507277004110098,
           0.004702765144040243,
           0.0042023921758922,
           0.0034188448341508507,
           0.0032220490374915162,
           0.004401011247429387,
           0.0036283467309506136
          ],
          "type": "data",
          "visible": true
         },
         "name": "N=1024,K=513,l=128,n=10000,exact=0,PW,wt",
         "type": "scatter",
         "x": [
          0.06,
          0.07,
          0.08,
          0.09,
          0.1,
          0.11,
          0.12,
          0.13,
          0.14,
          0.15,
          0.16,
          0.17,
          0.18,
          0.19,
          0.2
         ],
         "y": [
          0.00005,
          0.0007000000000000001,
          0.007130000000000002,
          0.04162999999999999,
          0.15594999999999998,
          0.3493,
          0.5448599999999999,
          0.67079,
          0.7195300000000001,
          0.74,
          0.7466299999999999,
          0.74865,
          0.74982,
          0.74979,
          0.75121
         ]
        },
        {
         "error_y": {
          "array": [
           0.0016988525539316235,
           0.0017618172436436185,
           0.0035704901624286863,
           0.0025348767228407774,
           0.003652067907364266,
           0.004538777368411009,
           0.0026593420238848566,
           0.005753468519076127,
           0.005381830543597579,
           0.0044846516029676325,
           0.0041658732577936125,
           0.003924041284186496,
           0.0049501616135233595,
           0.005211919032371866,
           0.0036019994447528503
          ],
          "type": "data",
          "visible": true
         },
         "name": "N=128,K=65,l=128,n=10000,exact=0,PW,deg",
         "type": "scatter",
         "x": [
          0.06,
          0.07,
          0.08,
          0.09,
          0.1,
          0.11,
          0.12,
          0.13,
          0.14,
          0.15,
          0.16,
          0.17,
          0.18,
          0.19,
          0.2
         ],
         "y": [
          0.04297,
          0.078,
          0.12725999999999998,
          0.19142,
          0.26602,
          0.34215000000000007,
          0.42042999999999997,
          0.49566,
          0.5523299999999999,
          0.5995299999999999,
          0.64185,
          0.66943,
          0.69203,
          0.70667,
          0.72136
         ]
        },
        {
         "error_y": {
          "array": [
           0.0022237131109925138,
           0.0026979436613836106,
           0.0030387497429041435,
           0.0025023988491045955,
           0.005425320267044149,
           0.004435267748400317,
           0.004130326863578726,
           0.004976705737734556,
           0.0035981800955483065,
           0.002990718977102321,
           0.003115589831797499,
           0.0037815340802378142,
           0.004069213683256243,
           0.0027436472076416726,
           0.0029789931184881864
          ],
          "type": "data",
          "visible": true
         },
         "name": "N=128,K=65,l=128,n=10000,exact=0,PW,wt",
         "type": "scatter",
         "x": [
          0.06,
          0.07,
          0.08,
          0.09,
          0.1,
          0.11,
          0.12,
          0.13,
          0.14,
          0.15,
          0.16,
          0.17,
          0.18,
          0.19,
          0.2
         ],
         "y": [
          0.039290000000000005,
          0.07099,
          0.11629999999999999,
          0.17479999999999998,
          0.24523,
          0.32048,
          0.39632,
          0.46758,
          0.53029,
          0.5842399999999999,
          0.6242099999999999,
          0.6566,
          0.6804500000000001,
          0.70062,
          0.71496
         ]
        },
        {
         "error_y": {
          "array": [
           0.0006946221994724904,
           0.0014821943192442747,
           0.0014388884598883955,
           0.003388273896838921,
           0.00319914050957441,
           0.007355141059150393,
           0.005561438662792195,
           0.0025496862552086682,
           0.005428305444611623,
           0.00602375298298328,
           0.004667986718061665,
           0.0040924931276668085,
           0.004195759764333508,
           0.0037592685458743324,
           0.003944730662542116
          ],
          "type": "data",
          "visible": true
         },
         "name": "N=512,K=257,l=128,n=10000,exact=0,PW,deg",
         "type": "scatter",
         "x": [
          0.06,
          0.07,
          0.08,
          0.09,
          0.1,
          0.11,
          0.12,
          0.13,
          0.14,
          0.15,
          0.16,
          0.17,
          0.18,
          0.19,
          0.2
         ],
         "y": [
          0.004450000000000001,
          0.016090000000000004,
          0.04636,
          0.11063999999999999,
          0.22865000000000002,
          0.3603700000000001,
          0.49451999999999996,
          0.6100100000000002,
          0.66435,
          0.7055800000000001,
          0.7290300000000001,
          0.73555,
          0.74484,
          0.7466300000000001,
          0.74599
         ]
        },
        {
         "error_y": {
          "array": [
           0.0003132091952673166,
           0.0009042123644365853,
           0.0018628204422326917,
           0.002405930173550345,
           0.0031473957488692117,
           0.004880829847474716,
           0.004960806386062655,
           0.0031712615786150616,
           0.003827740848072127,
           0.004592047473622186,
           0.00431629470726919,
           0.005882932941994142,
           0.005290217386837724,
           0.004025667646490447,
           0.004603476946830503
          ],
          "type": "data",
          "visible": true
         },
         "name": "N=512,K=257,l=128,n=10000,exact=0,PW,wt",
         "type": "scatter",
         "x": [
          0.06,
          0.07,
          0.08,
          0.09,
          0.1,
          0.11,
          0.12,
          0.13,
          0.14,
          0.15,
          0.16,
          0.17,
          0.18,
          0.19,
          0.2
         ],
         "y": [
          0.0036700000000000005,
          0.01348,
          0.03997,
          0.09875,
          0.20213,
          0.33835,
          0.47707999999999995,
          0.5870099999999999,
          0.65588,
          0.69949,
          0.7234400000000001,
          0.73289,
          0.74346,
          0.7454,
          0.7472000000000001
         ]
        },
        {
         "error_y": {
          "array": [
           0.0016291408778862566,
           0.002991136907598846,
           0.0042040575638304465,
           0.0036732002395731176,
           0.004240530627173903,
           0.005144472762101085,
           0.0037030392922571083,
           0.0035859308414970957,
           0.0045354602853514255,
           0.0049134102210175775,
           0.005018854450967875,
           0.00422328071527338,
           0.006198580482658917,
           0.003171766069558085,
           0.004578209256903841
          ],
          "type": "data",
          "visible": true
         },
         "name": "N=64,K=33,l=128,n=10000,exact=0,PW,deg",
         "type": "scatter",
         "x": [
          0.06,
          0.07,
          0.08,
          0.09,
          0.1,
          0.11,
          0.12,
          0.13,
          0.14,
          0.15,
          0.16,
          0.17,
          0.18,
          0.19,
          0.2
         ],
         "y": [
          0.06767,
          0.10830999999999999,
          0.15823,
          0.21326,
          0.27463,
          0.33482,
          0.39335,
          0.44828999999999997,
          0.5017400000000001,
          0.54772,
          0.58731,
          0.6211300000000001,
          0.64894,
          0.6722699999999999,
          0.6926
         ]
        },
        {
         "error_y": {
          "array": [
           0.0019429101883514837,
           0.0033274614948936676,
           0.003191300675273325,
           0.003677240813436073,
           0.005767226369755219,
           0.006365131577587376,
           0.006109140692437858,
           0.0038272705679112955,
           0.004074800608618782,
           0.004819751030914351,
           0.005450733895541047,
           0.004742530969851442,
           0.005316164030576934,
           0.004873356133097601,
           0.0035951216947413527
          ],
          "type": "data",
          "visible": true
         },
         "name": "N=64,K=33,l=128,n=10000,exact=0,PW,wt",
         "type": "scatter",
         "x": [
          0.06,
          0.07,
          0.08,
          0.09,
          0.1,
          0.11,
          0.12,
          0.13,
          0.14,
          0.15,
          0.16,
          0.17,
          0.18,
          0.19,
          0.2
         ],
         "y": [
          0.06391,
          0.10300000000000001,
          0.15086000000000002,
          0.20387,
          0.26199000000000006,
          0.32259,
          0.38167999999999996,
          0.4364,
          0.48789999999999994,
          0.5359,
          0.57595,
          0.6115800000000001,
          0.64068,
          0.66482,
          0.6841100000000001
         ]
        },
        {
         "error_y": {
          "array": [
           0.0004029888335921975,
           0.0009914131328563286,
           0.0015786386540307439,
           0.0025358233376952728,
           0.002373099239391391,
           0.005782464872353312,
           0.006131402775874375,
           0.005200778787835539,
           0.005600080356566323,
           0.004930963394713039,
           0.0037194085551334683,
           0.0026605262637305555,
           0.00432458090455017,
           0.0035057238910102513,
           0.0059074867752708414
          ],
          "type": "data",
          "visible": true
         },
         "name": "N=512,K=257,l=128,n=10000,exact=0,HPW,deg",
         "type": "scatter",
         "x": [
          0.06,
          0.07,
          0.08,
          0.09,
          0.1,
          0.11,
          0.12,
          0.13,
          0.14,
          0.15,
          0.16,
          0.17,
          0.18,
          0.19,
          0.2
         ],
         "y": [
          0.004940000000000001,
          0.015809999999999998,
          0.04517,
          0.10933999999999999,
          0.23077999999999999,
          0.3659899999999999,
          0.5059699999999999,
          0.6161300000000001,
          0.6651900000000001,
          0.70106,
          0.7293,
          0.73464,
          0.7442,
          0.7415700000000001,
          0.7453399999999999
         ]
        },
        {
         "error_y": {
          "array": [
           0.0005481788029466298,
           0.0009677293009927935,
           0.0023888072337465835,
           0.0022424094184604207,
           0.0017728226081590863,
           0.005970803965966396,
           0.007023133203919736,
           0.004194103003027,
           0.0034572966317630354,
           0.004080502420045869,
           0.00616805479871895,
           0.002903790626061043,
           0.005565932087260858,
           0.002766387536119982,
           0.003218710922092891
          ],
          "type": "data",
          "visible": true
         },
         "name": "N=512,K=257,l=128,n=10000,exact=0,HPW,wt",
         "type": "scatter",
         "x": [
          0.06,
          0.07,
          0.08,
          0.09,
          0.1,
          0.11,
          0.12,
          0.13,
          0.14,
          0.15,
          0.16,
          0.17,
          0.18,
          0.19,
          0.2
         ],
         "y": [
          0.00435,
          0.013949999999999999,
          0.03916000000000001,
          0.09913999999999999,
          0.20800999999999997,
          0.34725000000000006,
          0.4865399999999999,
          0.60165,
          0.6604099999999999,
          0.6989500000000001,
          0.7260899999999999,
          0.7333000000000001,
          0.7419200000000001,
          0.7419899999999998,
          0.7457300000000001
         ]
        },
        {
         "error_y": {
          "array": [
           0,
           0,
           0,
           0,
           0,
           0,
           0,
           0,
           0,
           0,
           0,
           0,
           0,
           0,
           0
          ],
          "type": "data",
          "visible": true
         },
         "name": "N=256,K=129,l=128,n=10000,exact=0,HPW,deg",
         "type": "scatter",
         "x": [
          0.06,
          0.07,
          0.08,
          0.09,
          0.1,
          0.11,
          0.12,
          0.13,
          0.14,
          0.15,
          0.16,
          0.17,
          0.18,
          0.19,
          0.2
         ],
         "y": [
          0.0076,
          0.0258,
          0.0675,
          0.1347,
          0.2304,
          0.3346,
          0.4385,
          0.5477,
          0.6079,
          0.6667,
          0.7034,
          0.719,
          0.7358,
          0.7397,
          0.739
         ]
        },
        {
         "error_y": {
          "array": [
           0,
           0,
           0,
           0,
           0,
           0,
           0,
           0,
           0,
           0,
           0,
           0,
           0,
           0,
           0
          ],
          "type": "data",
          "visible": true
         },
         "name": "N=256,K=129,l=128,n=10000,exact=0,HPW,wt",
         "type": "scatter",
         "x": [
          0.06,
          0.07,
          0.08,
          0.09,
          0.1,
          0.11,
          0.12,
          0.13,
          0.14,
          0.15,
          0.16,
          0.17,
          0.18,
          0.19,
          0.2
         ],
         "y": [
          0.0073,
          0.0225,
          0.0586,
          0.1194,
          0.2109,
          0.3107,
          0.4148,
          0.5166,
          0.5972,
          0.6517,
          0.6847,
          0.7129,
          0.7274,
          0.7407,
          0.745
         ]
        },
        {
         "error_y": {
          "array": [
           0.0019610201426808454,
           0.001462908062729848,
           0.0023568835355188855,
           0.003591670920337779,
           0.0040693488422596505,
           0.0039640383449205015,
           0.004186275194011975,
           0.004693836384025334,
           0.004177367592156582,
           0.0035702801010564847,
           0.002902430016382823,
           0.0023976863848301777,
           0.004037276309592899,
           0.003173389355247803,
           0.004300244179113568
          ],
          "type": "data",
          "visible": true
         },
         "name": "N=128,K=65,l=128,n=10000,exact=0,HPW,deg",
         "type": "scatter",
         "x": [
          0.06,
          0.07,
          0.08,
          0.09,
          0.1,
          0.11,
          0.12,
          0.13,
          0.14,
          0.15,
          0.16,
          0.17,
          0.18,
          0.19,
          0.2
         ],
         "y": [
          0.04048,
          0.07526999999999999,
          0.12171000000000001,
          0.18687,
          0.26982,
          0.34048,
          0.4221100000000001,
          0.50633,
          0.5552599999999999,
          0.6045900000000001,
          0.6601699999999999,
          0.67621,
          0.7067199999999999,
          0.7089599999999999,
          0.7288300000000001
         ]
        },
        {
         "error_y": {
          "array": [
           0.0022676860452893388,
           0.0035623728047468575,
           0.003091747078918325,
           0.0032848287626602423,
           0.0032803048638807945,
           0.004260622020315808,
           0.003086891640469419,
           0.0035465617152391398,
           0.0031182687504447137,
           0.0043778990394936984,
           0.00309993548319959,
           0.0031616609558901125,
           0.0029093641917092264,
           0.00203361746648675,
           0.005812951057767477
          ],
          "type": "data",
          "visible": true
         },
         "name": "N=128,K=65,l=128,n=10000,exact=0,HPW,wt",
         "type": "scatter",
         "x": [
          0.06,
          0.07,
          0.08,
          0.09,
          0.1,
          0.11,
          0.12,
          0.13,
          0.14,
          0.15,
          0.16,
          0.17,
          0.18,
          0.19,
          0.2
         ],
         "y": [
          0.03704,
          0.06855000000000001,
          0.11101000000000001,
          0.17197,
          0.24356,
          0.3189099999999999,
          0.39481,
          0.47006999999999993,
          0.53402,
          0.587,
          0.62862,
          0.66313,
          0.68874,
          0.70312,
          0.7173400000000002
         ]
        },
        {
         "error_y": {
          "array": [
           0.0016291408778862566,
           0.002991136907598846,
           0.0042040575638304465,
           0.0036732002395731176,
           0.004240530627173903,
           0.005144472762101085,
           0.0037030392922571083,
           0.0035859308414970957,
           0.0045354602853514255,
           0.0049134102210175775,
           0.005018854450967875,
           0.00422328071527338,
           0.006198580482658917,
           0.003171766069558085,
           0.004578209256903841
          ],
          "type": "data",
          "visible": true
         },
         "name": "N=64,K=33,l=128,n=10000,exact=0,HPW,deg",
         "type": "scatter",
         "x": [
          0.06,
          0.07,
          0.08,
          0.09,
          0.1,
          0.11,
          0.12,
          0.13,
          0.14,
          0.15,
          0.16,
          0.17,
          0.18,
          0.19,
          0.2
         ],
         "y": [
          0.06767,
          0.10830999999999999,
          0.15823,
          0.21326,
          0.27463,
          0.33482,
          0.39335,
          0.44828999999999997,
          0.5017400000000001,
          0.54772,
          0.58731,
          0.6211300000000001,
          0.64894,
          0.6722699999999999,
          0.6926
         ]
        },
        {
         "error_y": {
          "array": [
           0.0019429101883514837,
           0.0033274614948936676,
           0.003191300675273325,
           0.003677240813436073,
           0.005767226369755219,
           0.006365131577587376,
           0.006109140692437858,
           0.0038272705679112955,
           0.004074800608618782,
           0.004819751030914351,
           0.005450733895541047,
           0.004742530969851442,
           0.005316164030576934,
           0.004873356133097601,
           0.0035951216947413527
          ],
          "type": "data",
          "visible": true
         },
         "name": "N=64,K=33,l=128,n=10000,exact=0,HPW,wt",
         "type": "scatter",
         "x": [
          0.06,
          0.07,
          0.08,
          0.09,
          0.1,
          0.11,
          0.12,
          0.13,
          0.14,
          0.15,
          0.16,
          0.17,
          0.18,
          0.19,
          0.2
         ],
         "y": [
          0.06391,
          0.10300000000000001,
          0.15086000000000002,
          0.20387,
          0.26199000000000006,
          0.32259,
          0.38167999999999996,
          0.4364,
          0.48789999999999994,
          0.5359,
          0.57595,
          0.6115800000000001,
          0.64068,
          0.66482,
          0.6841100000000001
         ]
        },
        {
         "error_y": {
          "array": [
           0,
           0,
           0,
           0,
           0,
           0,
           0,
           0,
           0,
           0,
           0,
           0,
           0,
           0,
           0
          ],
          "type": "data",
          "visible": true
         },
         "name": "N=512,K=257,l=1,n=10000,exact=0,PW,deg",
         "type": "scatter",
         "x": [
          0.06,
          0.07,
          0.08,
          0.09,
          0.1,
          0.11,
          0.12,
          0.13,
          0.14,
          0.15,
          0.16,
          0.17,
          0.18,
          0.19,
          0.2
         ],
         "y": [
          0.022,
          0.0629,
          0.1512,
          0.2652,
          0.3893,
          0.5107,
          0.5959,
          0.6464,
          0.6882,
          0.7106,
          0.7259,
          0.7231,
          0.7393,
          0.7563,
          0.7399
         ]
        },
        {
         "error_y": {
          "array": [
           0,
           0,
           0,
           0,
           0,
           0,
           0,
           0,
           0,
           0,
           0,
           0,
           0,
           0,
           0
          ],
          "type": "data",
          "visible": true
         },
         "name": "N=512,K=257,l=1,n=10000,exact=0,PW,wt",
         "type": "scatter",
         "x": [
          0.06,
          0.07,
          0.08,
          0.09,
          0.1,
          0.11,
          0.12,
          0.13,
          0.14,
          0.15,
          0.16,
          0.17,
          0.18,
          0.19,
          0.2
         ],
         "y": [
          0.022,
          0.0629,
          0.1512,
          0.2652,
          0.3893,
          0.5107,
          0.5959,
          0.6464,
          0.6882,
          0.7106,
          0.7259,
          0.7231,
          0.7393,
          0.7563,
          0.7399
         ]
        },
        {
         "error_y": {
          "array": [
           0,
           0,
           0,
           0,
           0,
           0,
           0,
           0,
           0,
           0,
           0,
           0,
           0,
           0,
           0
          ],
          "type": "data",
          "visible": true
         },
         "name": "N=1024,K=513,l=1,n=10000,exact=0,PW,deg",
         "type": "scatter",
         "x": [
          0.06,
          0.07,
          0.08,
          0.09,
          0.1,
          0.11,
          0.12,
          0.13,
          0.14,
          0.15,
          0.16,
          0.17,
          0.18,
          0.19,
          0.2
         ],
         "y": [
          0.0066,
          0.0342,
          0.1039,
          0.2473,
          0.4232,
          0.5698,
          0.6712,
          0.7095,
          0.7472,
          0.7448,
          0.7531,
          0.7524,
          0.7593,
          0.753,
          0.7532
         ]
        },
        {
         "error_y": {
          "array": [
           0,
           0,
           0,
           0,
           0,
           0,
           0,
           0,
           0,
           0,
           0,
           0,
           0,
           0,
           0
          ],
          "type": "data",
          "visible": true
         },
         "name": "N=1024,K=513,l=1,n=10000,exact=0,PW,wt",
         "type": "scatter",
         "x": [
          0.06,
          0.07,
          0.08,
          0.09,
          0.1,
          0.11,
          0.12,
          0.13,
          0.14,
          0.15,
          0.16,
          0.17,
          0.18,
          0.19,
          0.2
         ],
         "y": [
          0.0066,
          0.0342,
          0.1039,
          0.2473,
          0.4232,
          0.5698,
          0.6712,
          0.7095,
          0.7472,
          0.7448,
          0.7531,
          0.7524,
          0.7593,
          0.753,
          0.7532
         ]
        },
        {
         "error_y": {
          "array": [
           0,
           0,
           0,
           0,
           0,
           0,
           0,
           0,
           0,
           0,
           0,
           0,
           0,
           0,
           0
          ],
          "type": "data",
          "visible": true
         },
         "name": "N=256,K=129,l=1,n=10000,exact=0,PW,deg",
         "type": "scatter",
         "x": [
          0.06,
          0.07,
          0.08,
          0.09,
          0.1,
          0.11,
          0.12,
          0.13,
          0.14,
          0.15,
          0.16,
          0.17,
          0.18,
          0.19,
          0.2
         ],
         "y": [
          0.0359,
          0.0801,
          0.1502,
          0.2394,
          0.3434,
          0.4404,
          0.5324,
          0.596,
          0.6514,
          0.6842,
          0.7121,
          0.7235,
          0.7312,
          0.7357,
          0.7409
         ]
        },
        {
         "error_y": {
          "array": [
           0,
           0,
           0,
           0,
           0,
           0,
           0,
           0,
           0,
           0,
           0,
           0,
           0,
           0,
           0
          ],
          "type": "data",
          "visible": true
         },
         "name": "N=256,K=129,l=1,n=10000,exact=0,PW,wt",
         "type": "scatter",
         "x": [
          0.06,
          0.07,
          0.08,
          0.09,
          0.1,
          0.11,
          0.12,
          0.13,
          0.14,
          0.15,
          0.16,
          0.17,
          0.18,
          0.19,
          0.2
         ],
         "y": [
          0.0359,
          0.0801,
          0.1502,
          0.2394,
          0.3434,
          0.4404,
          0.5324,
          0.596,
          0.6514,
          0.6842,
          0.7121,
          0.7235,
          0.7312,
          0.7357,
          0.7409
         ]
        },
        {
         "error_y": {
          "array": [
           0,
           0,
           0,
           0,
           0,
           0,
           0,
           0,
           0,
           0,
           0,
           0,
           0,
           0,
           0
          ],
          "type": "data",
          "visible": true
         },
         "name": "N=2048,K=1025,l=1,n=10000,exact=0,PW,deg",
         "type": "scatter",
         "x": [
          0.06,
          0.07,
          0.08,
          0.09,
          0.1,
          0.11,
          0.12,
          0.13,
          0.14,
          0.15,
          0.16,
          0.17,
          0.18,
          0.19,
          0.2
         ],
         "y": [
          0.0033,
          0.0291,
          0.1148,
          0.2952,
          0.5034,
          0.6413,
          0.7038,
          0.7387,
          0.7392,
          0.7501,
          0.7503,
          0.7512,
          0.7551,
          0.7465,
          0.7492
         ]
        },
        {
         "error_y": {
          "array": [
           0,
           0,
           0,
           0,
           0,
           0,
           0,
           0,
           0,
           0,
           0,
           0,
           0,
           0,
           0
          ],
          "type": "data",
          "visible": true
         },
         "name": "N=2048,K=1025,l=1,n=10000,exact=0,PW,wt",
         "type": "scatter",
         "x": [
          0.06,
          0.07,
          0.08,
          0.09,
          0.1,
          0.11,
          0.12,
          0.13,
          0.14,
          0.15,
          0.16,
          0.17,
          0.18,
          0.19,
          0.2
         ],
         "y": [
          0.0033,
          0.0291,
          0.1148,
          0.2952,
          0.5034,
          0.6413,
          0.7038,
          0.7387,
          0.7392,
          0.7501,
          0.7503,
          0.7512,
          0.7551,
          0.7465,
          0.7492
         ]
        },
        {
         "error_y": {
          "array": [
           0,
           0,
           0,
           0,
           0,
           0,
           0,
           0,
           0,
           0,
           0,
           0,
           0,
           0,
           0
          ],
          "type": "data",
          "visible": true
         },
         "name": "N=4096,K=2049,l=1,n=10000,exact=0,PW,deg",
         "type": "scatter",
         "x": [
          0.06,
          0.07,
          0.08,
          0.09,
          0.1,
          0.11,
          0.12,
          0.13,
          0.14,
          0.15,
          0.16,
          0.17,
          0.18,
          0.19,
          0.2
         ],
         "y": [
          0.0006,
          0.0056,
          0.0693,
          0.2845,
          0.5538,
          0.6898,
          0.7421,
          0.7539,
          0.7466,
          0.7481,
          0.7545,
          0.7487,
          0.7495,
          0.7488,
          0.7482
         ]
        },
        {
         "error_y": {
          "array": [
           0,
           0,
           0,
           0,
           0,
           0,
           0,
           0,
           0,
           0,
           0,
           0,
           0,
           0,
           0
          ],
          "type": "data",
          "visible": true
         },
         "name": "N=4096,K=2049,l=1,n=10000,exact=0,PW,wt",
         "type": "scatter",
         "x": [
          0.06,
          0.07,
          0.08,
          0.09,
          0.1,
          0.11,
          0.12,
          0.13,
          0.14,
          0.15,
          0.16,
          0.17,
          0.18,
          0.19,
          0.2
         ],
         "y": [
          0.0006,
          0.0056,
          0.0693,
          0.2845,
          0.5538,
          0.6898,
          0.7421,
          0.7539,
          0.7466,
          0.7481,
          0.7545,
          0.7487,
          0.7495,
          0.7488,
          0.7482
         ]
        },
        {
         "error_y": {
          "array": [
           0.00004,
           0.0001044030650891055,
           0.00032264531609803353,
           0.0018073461206974167,
           0.004462779403017809,
           0.004010735593379345,
           0.004849288607620685,
           0.0037403743128194954,
           0.003604289111600246,
           0.003387166957798212,
           0.0038813528569301573,
           0.004210700654285459,
           0.003959292866156784,
           0.0050630425635184865,
           0.003484035017045616
          ],
          "type": "data",
          "visible": true
         },
         "name": "N=2048,K=1025,l=128,n=10000,exact=0,PW,deg",
         "type": "scatter",
         "x": [
          0.06,
          0.07,
          0.08,
          0.09,
          0.1,
          0.11,
          0.12,
          0.13,
          0.14,
          0.15,
          0.16,
          0.17,
          0.18,
          0.19,
          0.2
         ],
         "y": [
          0.00002,
          0.00021000000000000004,
          0.00297,
          0.03165,
          0.17754,
          0.42889999999999995,
          0.6210199999999999,
          0.7112400000000001,
          0.74021,
          0.74781,
          0.75091,
          0.7503,
          0.7503,
          0.7491399999999999,
          0.74755
         ]
        },
        {
         "error_y": {
          "array": [
           0.00003,
           0.00012,
           0.0003144837038703278,
           0.0017223240113288791,
           0.0038672470828743297,
           0.004881761976991508,
           0.005606077059762916,
           0.0034124624540058865,
           0.0038226823043512144,
           0.003191614011750178,
           0.002805637182530897,
           0.002515332979945197,
           0.00471342762753392,
           0.004770754657284293,
           0.004399647713169771
          ],
          "type": "data",
          "visible": true
         },
         "name": "N=2048,K=1025,l=128,n=10000,exact=0,PW,wt",
         "type": "scatter",
         "x": [
          0.06,
          0.07,
          0.08,
          0.09,
          0.1,
          0.11,
          0.12,
          0.13,
          0.14,
          0.15,
          0.16,
          0.17,
          0.18,
          0.19,
          0.2
         ],
         "y": [
          0.00001,
          0.00016,
          0.0023899999999999998,
          0.02894,
          0.16782000000000002,
          0.42278000000000004,
          0.61977,
          0.71031,
          0.74141,
          0.74854,
          0.74832,
          0.7511099999999999,
          0.7498400000000001,
          0.74977,
          0.74801
         ]
        }
       ],
       "layout": {
        "template": {
         "data": {
          "bar": [
           {
            "error_x": {
             "color": "#2a3f5f"
            },
            "error_y": {
             "color": "#2a3f5f"
            },
            "marker": {
             "line": {
              "color": "#E5ECF6",
              "width": 0.5
             },
             "pattern": {
              "fillmode": "overlay",
              "size": 10,
              "solidity": 0.2
             }
            },
            "type": "bar"
           }
          ],
          "barpolar": [
           {
            "marker": {
             "line": {
              "color": "#E5ECF6",
              "width": 0.5
             },
             "pattern": {
              "fillmode": "overlay",
              "size": 10,
              "solidity": 0.2
             }
            },
            "type": "barpolar"
           }
          ],
          "carpet": [
           {
            "aaxis": {
             "endlinecolor": "#2a3f5f",
             "gridcolor": "white",
             "linecolor": "white",
             "minorgridcolor": "white",
             "startlinecolor": "#2a3f5f"
            },
            "baxis": {
             "endlinecolor": "#2a3f5f",
             "gridcolor": "white",
             "linecolor": "white",
             "minorgridcolor": "white",
             "startlinecolor": "#2a3f5f"
            },
            "type": "carpet"
           }
          ],
          "choropleth": [
           {
            "colorbar": {
             "outlinewidth": 0,
             "ticks": ""
            },
            "type": "choropleth"
           }
          ],
          "contour": [
           {
            "colorbar": {
             "outlinewidth": 0,
             "ticks": ""
            },
            "colorscale": [
             [
              0,
              "#0d0887"
             ],
             [
              0.1111111111111111,
              "#46039f"
             ],
             [
              0.2222222222222222,
              "#7201a8"
             ],
             [
              0.3333333333333333,
              "#9c179e"
             ],
             [
              0.4444444444444444,
              "#bd3786"
             ],
             [
              0.5555555555555556,
              "#d8576b"
             ],
             [
              0.6666666666666666,
              "#ed7953"
             ],
             [
              0.7777777777777778,
              "#fb9f3a"
             ],
             [
              0.8888888888888888,
              "#fdca26"
             ],
             [
              1,
              "#f0f921"
             ]
            ],
            "type": "contour"
           }
          ],
          "contourcarpet": [
           {
            "colorbar": {
             "outlinewidth": 0,
             "ticks": ""
            },
            "type": "contourcarpet"
           }
          ],
          "heatmap": [
           {
            "colorbar": {
             "outlinewidth": 0,
             "ticks": ""
            },
            "colorscale": [
             [
              0,
              "#0d0887"
             ],
             [
              0.1111111111111111,
              "#46039f"
             ],
             [
              0.2222222222222222,
              "#7201a8"
             ],
             [
              0.3333333333333333,
              "#9c179e"
             ],
             [
              0.4444444444444444,
              "#bd3786"
             ],
             [
              0.5555555555555556,
              "#d8576b"
             ],
             [
              0.6666666666666666,
              "#ed7953"
             ],
             [
              0.7777777777777778,
              "#fb9f3a"
             ],
             [
              0.8888888888888888,
              "#fdca26"
             ],
             [
              1,
              "#f0f921"
             ]
            ],
            "type": "heatmap"
           }
          ],
          "heatmapgl": [
           {
            "colorbar": {
             "outlinewidth": 0,
             "ticks": ""
            },
            "colorscale": [
             [
              0,
              "#0d0887"
             ],
             [
              0.1111111111111111,
              "#46039f"
             ],
             [
              0.2222222222222222,
              "#7201a8"
             ],
             [
              0.3333333333333333,
              "#9c179e"
             ],
             [
              0.4444444444444444,
              "#bd3786"
             ],
             [
              0.5555555555555556,
              "#d8576b"
             ],
             [
              0.6666666666666666,
              "#ed7953"
             ],
             [
              0.7777777777777778,
              "#fb9f3a"
             ],
             [
              0.8888888888888888,
              "#fdca26"
             ],
             [
              1,
              "#f0f921"
             ]
            ],
            "type": "heatmapgl"
           }
          ],
          "histogram": [
           {
            "marker": {
             "pattern": {
              "fillmode": "overlay",
              "size": 10,
              "solidity": 0.2
             }
            },
            "type": "histogram"
           }
          ],
          "histogram2d": [
           {
            "colorbar": {
             "outlinewidth": 0,
             "ticks": ""
            },
            "colorscale": [
             [
              0,
              "#0d0887"
             ],
             [
              0.1111111111111111,
              "#46039f"
             ],
             [
              0.2222222222222222,
              "#7201a8"
             ],
             [
              0.3333333333333333,
              "#9c179e"
             ],
             [
              0.4444444444444444,
              "#bd3786"
             ],
             [
              0.5555555555555556,
              "#d8576b"
             ],
             [
              0.6666666666666666,
              "#ed7953"
             ],
             [
              0.7777777777777778,
              "#fb9f3a"
             ],
             [
              0.8888888888888888,
              "#fdca26"
             ],
             [
              1,
              "#f0f921"
             ]
            ],
            "type": "histogram2d"
           }
          ],
          "histogram2dcontour": [
           {
            "colorbar": {
             "outlinewidth": 0,
             "ticks": ""
            },
            "colorscale": [
             [
              0,
              "#0d0887"
             ],
             [
              0.1111111111111111,
              "#46039f"
             ],
             [
              0.2222222222222222,
              "#7201a8"
             ],
             [
              0.3333333333333333,
              "#9c179e"
             ],
             [
              0.4444444444444444,
              "#bd3786"
             ],
             [
              0.5555555555555556,
              "#d8576b"
             ],
             [
              0.6666666666666666,
              "#ed7953"
             ],
             [
              0.7777777777777778,
              "#fb9f3a"
             ],
             [
              0.8888888888888888,
              "#fdca26"
             ],
             [
              1,
              "#f0f921"
             ]
            ],
            "type": "histogram2dcontour"
           }
          ],
          "mesh3d": [
           {
            "colorbar": {
             "outlinewidth": 0,
             "ticks": ""
            },
            "type": "mesh3d"
           }
          ],
          "parcoords": [
           {
            "line": {
             "colorbar": {
              "outlinewidth": 0,
              "ticks": ""
             }
            },
            "type": "parcoords"
           }
          ],
          "pie": [
           {
            "automargin": true,
            "type": "pie"
           }
          ],
          "scatter": [
           {
            "fillpattern": {
             "fillmode": "overlay",
             "size": 10,
             "solidity": 0.2
            },
            "type": "scatter"
           }
          ],
          "scatter3d": [
           {
            "line": {
             "colorbar": {
              "outlinewidth": 0,
              "ticks": ""
             }
            },
            "marker": {
             "colorbar": {
              "outlinewidth": 0,
              "ticks": ""
             }
            },
            "type": "scatter3d"
           }
          ],
          "scattercarpet": [
           {
            "marker": {
             "colorbar": {
              "outlinewidth": 0,
              "ticks": ""
             }
            },
            "type": "scattercarpet"
           }
          ],
          "scattergeo": [
           {
            "marker": {
             "colorbar": {
              "outlinewidth": 0,
              "ticks": ""
             }
            },
            "type": "scattergeo"
           }
          ],
          "scattergl": [
           {
            "marker": {
             "colorbar": {
              "outlinewidth": 0,
              "ticks": ""
             }
            },
            "type": "scattergl"
           }
          ],
          "scattermapbox": [
           {
            "marker": {
             "colorbar": {
              "outlinewidth": 0,
              "ticks": ""
             }
            },
            "type": "scattermapbox"
           }
          ],
          "scatterpolar": [
           {
            "marker": {
             "colorbar": {
              "outlinewidth": 0,
              "ticks": ""
             }
            },
            "type": "scatterpolar"
           }
          ],
          "scatterpolargl": [
           {
            "marker": {
             "colorbar": {
              "outlinewidth": 0,
              "ticks": ""
             }
            },
            "type": "scatterpolargl"
           }
          ],
          "scatterternary": [
           {
            "marker": {
             "colorbar": {
              "outlinewidth": 0,
              "ticks": ""
             }
            },
            "type": "scatterternary"
           }
          ],
          "surface": [
           {
            "colorbar": {
             "outlinewidth": 0,
             "ticks": ""
            },
            "colorscale": [
             [
              0,
              "#0d0887"
             ],
             [
              0.1111111111111111,
              "#46039f"
             ],
             [
              0.2222222222222222,
              "#7201a8"
             ],
             [
              0.3333333333333333,
              "#9c179e"
             ],
             [
              0.4444444444444444,
              "#bd3786"
             ],
             [
              0.5555555555555556,
              "#d8576b"
             ],
             [
              0.6666666666666666,
              "#ed7953"
             ],
             [
              0.7777777777777778,
              "#fb9f3a"
             ],
             [
              0.8888888888888888,
              "#fdca26"
             ],
             [
              1,
              "#f0f921"
             ]
            ],
            "type": "surface"
           }
          ],
          "table": [
           {
            "cells": {
             "fill": {
              "color": "#EBF0F8"
             },
             "line": {
              "color": "white"
             }
            },
            "header": {
             "fill": {
              "color": "#C8D4E3"
             },
             "line": {
              "color": "white"
             }
            },
            "type": "table"
           }
          ]
         },
         "layout": {
          "annotationdefaults": {
           "arrowcolor": "#2a3f5f",
           "arrowhead": 0,
           "arrowwidth": 1
          },
          "autotypenumbers": "strict",
          "coloraxis": {
           "colorbar": {
            "outlinewidth": 0,
            "ticks": ""
           }
          },
          "colorscale": {
           "diverging": [
            [
             0,
             "#8e0152"
            ],
            [
             0.1,
             "#c51b7d"
            ],
            [
             0.2,
             "#de77ae"
            ],
            [
             0.3,
             "#f1b6da"
            ],
            [
             0.4,
             "#fde0ef"
            ],
            [
             0.5,
             "#f7f7f7"
            ],
            [
             0.6,
             "#e6f5d0"
            ],
            [
             0.7,
             "#b8e186"
            ],
            [
             0.8,
             "#7fbc41"
            ],
            [
             0.9,
             "#4d9221"
            ],
            [
             1,
             "#276419"
            ]
           ],
           "sequential": [
            [
             0,
             "#0d0887"
            ],
            [
             0.1111111111111111,
             "#46039f"
            ],
            [
             0.2222222222222222,
             "#7201a8"
            ],
            [
             0.3333333333333333,
             "#9c179e"
            ],
            [
             0.4444444444444444,
             "#bd3786"
            ],
            [
             0.5555555555555556,
             "#d8576b"
            ],
            [
             0.6666666666666666,
             "#ed7953"
            ],
            [
             0.7777777777777778,
             "#fb9f3a"
            ],
            [
             0.8888888888888888,
             "#fdca26"
            ],
            [
             1,
             "#f0f921"
            ]
           ],
           "sequentialminus": [
            [
             0,
             "#0d0887"
            ],
            [
             0.1111111111111111,
             "#46039f"
            ],
            [
             0.2222222222222222,
             "#7201a8"
            ],
            [
             0.3333333333333333,
             "#9c179e"
            ],
            [
             0.4444444444444444,
             "#bd3786"
            ],
            [
             0.5555555555555556,
             "#d8576b"
            ],
            [
             0.6666666666666666,
             "#ed7953"
            ],
            [
             0.7777777777777778,
             "#fb9f3a"
            ],
            [
             0.8888888888888888,
             "#fdca26"
            ],
            [
             1,
             "#f0f921"
            ]
           ]
          },
          "colorway": [
           "#636efa",
           "#EF553B",
           "#00cc96",
           "#ab63fa",
           "#FFA15A",
           "#19d3f3",
           "#FF6692",
           "#B6E880",
           "#FF97FF",
           "#FECB52"
          ],
          "font": {
           "color": "#2a3f5f"
          },
          "geo": {
           "bgcolor": "white",
           "lakecolor": "white",
           "landcolor": "#E5ECF6",
           "showlakes": true,
           "showland": true,
           "subunitcolor": "white"
          },
          "hoverlabel": {
           "align": "left"
          },
          "hovermode": "closest",
          "mapbox": {
           "style": "light"
          },
          "paper_bgcolor": "white",
          "plot_bgcolor": "#E5ECF6",
          "polar": {
           "angularaxis": {
            "gridcolor": "white",
            "linecolor": "white",
            "ticks": ""
           },
           "bgcolor": "#E5ECF6",
           "radialaxis": {
            "gridcolor": "white",
            "linecolor": "white",
            "ticks": ""
           }
          },
          "scene": {
           "xaxis": {
            "backgroundcolor": "#E5ECF6",
            "gridcolor": "white",
            "gridwidth": 2,
            "linecolor": "white",
            "showbackground": true,
            "ticks": "",
            "zerolinecolor": "white"
           },
           "yaxis": {
            "backgroundcolor": "#E5ECF6",
            "gridcolor": "white",
            "gridwidth": 2,
            "linecolor": "white",
            "showbackground": true,
            "ticks": "",
            "zerolinecolor": "white"
           },
           "zaxis": {
            "backgroundcolor": "#E5ECF6",
            "gridcolor": "white",
            "gridwidth": 2,
            "linecolor": "white",
            "showbackground": true,
            "ticks": "",
            "zerolinecolor": "white"
           }
          },
          "shapedefaults": {
           "line": {
            "color": "#2a3f5f"
           }
          },
          "ternary": {
           "aaxis": {
            "gridcolor": "white",
            "linecolor": "white",
            "ticks": ""
           },
           "baxis": {
            "gridcolor": "white",
            "linecolor": "white",
            "ticks": ""
           },
           "bgcolor": "#E5ECF6",
           "caxis": {
            "gridcolor": "white",
            "linecolor": "white",
            "ticks": ""
           }
          },
          "title": {
           "x": 0.05
          },
          "xaxis": {
           "automargin": true,
           "gridcolor": "white",
           "linecolor": "white",
           "ticks": "",
           "title": {
            "standoff": 15
           },
           "zerolinecolor": "white",
           "zerolinewidth": 2
          },
          "yaxis": {
           "automargin": true,
           "gridcolor": "white",
           "linecolor": "white",
           "ticks": "",
           "title": {
            "standoff": 15
           },
           "zerolinecolor": "white",
           "zerolinewidth": 2
          }
         }
        }
       }
      },
      "text/html": [
       "<div>                            <div id=\"a25881cc-61c4-46ac-bc55-9c1c0dc543d8\" class=\"plotly-graph-div\" style=\"height:525px; width:100%;\"></div>            <script type=\"text/javascript\">                require([\"plotly\"], function(Plotly) {                    window.PLOTLYENV=window.PLOTLYENV || {};                                    if (document.getElementById(\"a25881cc-61c4-46ac-bc55-9c1c0dc543d8\")) {                    Plotly.newPlot(                        \"a25881cc-61c4-46ac-bc55-9c1c0dc543d8\",                        [{\"error_y\":{\"array\":[0.0007915175298121959,0.0011234322409473566,0.002332037735543747,0.0028185102447924482,0.00302722645337279,0.003082790943284991,0.004829503080028,0.0067895213380620495,0.004479296819814461,0.0038849581722330087,0.0060089017299336835,0.004092199897365723,0.003202639536382442,0.005025892955485614,0.003974871067091354],\"type\":\"data\",\"visible\":true},\"name\":\"N=256,K=129,l=128,n=10000,exact=0,PW,deg\",\"x\":[0.06,0.07,0.08,0.09,0.1,0.11,0.12,0.13,0.14,0.15,0.16,0.17,0.18,0.19,0.2],\"y\":[0.00885,0.02793,0.06616,0.1323,0.23062999999999997,0.33272,0.44333,0.5512799999999999,0.61193,0.66701,0.7055900000000002,0.7211299999999999,0.7363099999999999,0.73962,0.7450199999999999],\"type\":\"scatter\"},{\"error_y\":{\"array\":[0.0007433034373659253,0.0015249918032566603,0.001654085850250827,0.003343590884064616,0.003523705436043143,0.003959406521184712,0.005166623655734949,0.005566363265184902,0.004644362173646659,0.004263848027310531,0.005038015482310477,0.0047076639642183536,0.004343374264324923,0.00451996681403746,0.004626056636056227],\"type\":\"data\",\"visible\":true},\"name\":\"N=256,K=129,l=128,n=10000,exact=0,PW,wt\",\"x\":[0.06,0.07,0.08,0.09,0.1,0.11,0.12,0.13,0.14,0.15,0.16,0.17,0.18,0.19,0.2],\"y\":[0.00775,0.02368,0.05790000000000001,0.11757999999999999,0.20444999999999997,0.30761000000000005,0.4168,0.51906,0.5956299999999999,0.6533399999999999,0.69038,0.71587,0.73051,0.7384299999999999,0.7431599999999999],\"type\":\"scatter\"},{\"error_y\":{\"array\":[4.58257569495584e-05,0.00025475478405713995,0.0005513619500836089,0.001863223014027038,0.005375834818890922,0.004294601262049834,0.002878541297254577,0.0031681066901226816,0.0038763513772618733,0.0046020538892976946,0.005618371650220374,0.0041249121202760084,0.0029033773437154124,0.0039393400462514,0.004269063129071763],\"type\":\"data\",\"visible\":true},\"name\":\"N=1024,K=513,l=128,n=10000,exact=0,HPW,deg\",\"x\":[0.06,0.07,0.08,0.09,0.1,0.11,0.12,0.13,0.14,0.15,0.16,0.17,0.18,0.19,0.2],\"y\":[3.0000000000000004e-05,0.00051,0.005399999999999999,0.03758,0.16158,0.36678,0.5728000000000001,0.69089,0.73127,0.7435100000000001,0.74807,0.74739,0.74922,0.74966,0.7514899999999999],\"type\":\"scatter\"},{\"error_y\":{\"array\":[4.5825756949558395e-05,0.0002039607805437114,0.0005330103188494574,0.001767597239192232,0.004094337553255713,0.0038389581920099066,0.003617457670795892,0.005336712471175483,0.004772797921555023,0.004787368797157783,0.004340149767001126,0.004114668880967238,0.004668789993135267,0.00332873849979237,0.002789336838748587],\"type\":\"data\",\"visible\":true},\"name\":\"N=1024,K=513,l=128,n=10000,exact=0,HPW,wt\",\"x\":[0.06,0.07,0.08,0.09,0.1,0.11,0.12,0.13,0.14,0.15,0.16,0.17,0.18,0.19,0.2],\"y\":[3.0000000000000004e-05,0.00041999999999999996,0.00473,0.03406,0.14828,0.35372000000000003,0.5628,0.6850499999999999,0.72802,0.74259,0.7484099999999999,0.74705,0.7501799999999998,0.74895,0.75034],\"type\":\"scatter\"},{\"error_y\":{\"array\":[6e-05,0.0002692582403567252,0.0006000000000000001,0.00202210286583052,0.0040848622987807075,0.0024650557803019444,0.004202487358696039,0.005668191951583864,0.004592439438903894,0.006055377775168116,0.0036954160794151415,0.003515124464368212,0.00257021399887247,0.004448921217553731,0.006034865367180959],\"type\":\"data\",\"visible\":true},\"name\":\"N=1024,K=513,l=128,n=10000,exact=0,PW,deg\",\"x\":[0.06,0.07,0.08,0.09,0.1,0.11,0.12,0.13,0.14,0.15,0.16,0.17,0.18,0.19,0.2],\"y\":[8.000000000000002e-05,0.00105,0.008400000000000001,0.04689,0.17407,0.36405000000000004,0.55679,0.68084,0.7236499999999999,0.7398200000000001,0.74533,0.7475699999999998,0.7498,0.74909,0.7500199999999999],\"type\":\"scatter\"},{\"error_y\":{\"array\":[4.9999999999999996e-05,0.00023664319132398463,0.0008100000000000001,0.0019814388711237095,0.003560407280073443,0.002665332999833226,0.004435132467018313,0.003937880140380097,0.005507277004110098,0.004702765144040243,0.0042023921758922,0.0034188448341508507,0.0032220490374915162,0.004401011247429387,0.0036283467309506136],\"type\":\"data\",\"visible\":true},\"name\":\"N=1024,K=513,l=128,n=10000,exact=0,PW,wt\",\"x\":[0.06,0.07,0.08,0.09,0.1,0.11,0.12,0.13,0.14,0.15,0.16,0.17,0.18,0.19,0.2],\"y\":[5e-05,0.0007000000000000001,0.007130000000000002,0.04162999999999999,0.15594999999999998,0.3493,0.5448599999999999,0.67079,0.7195300000000001,0.74,0.7466299999999999,0.74865,0.74982,0.74979,0.75121],\"type\":\"scatter\"},{\"error_y\":{\"array\":[0.0016988525539316235,0.0017618172436436185,0.0035704901624286863,0.0025348767228407774,0.003652067907364266,0.004538777368411009,0.0026593420238848566,0.005753468519076127,0.005381830543597579,0.0044846516029676325,0.0041658732577936125,0.003924041284186496,0.0049501616135233595,0.005211919032371866,0.0036019994447528503],\"type\":\"data\",\"visible\":true},\"name\":\"N=128,K=65,l=128,n=10000,exact=0,PW,deg\",\"x\":[0.06,0.07,0.08,0.09,0.1,0.11,0.12,0.13,0.14,0.15,0.16,0.17,0.18,0.19,0.2],\"y\":[0.04297,0.078,0.12725999999999998,0.19142,0.26602,0.34215000000000007,0.42042999999999997,0.49566,0.5523299999999999,0.5995299999999999,0.64185,0.66943,0.69203,0.70667,0.72136],\"type\":\"scatter\"},{\"error_y\":{\"array\":[0.0022237131109925138,0.0026979436613836106,0.0030387497429041435,0.0025023988491045955,0.005425320267044149,0.004435267748400317,0.004130326863578726,0.004976705737734556,0.0035981800955483065,0.002990718977102321,0.003115589831797499,0.0037815340802378142,0.004069213683256243,0.0027436472076416726,0.0029789931184881864],\"type\":\"data\",\"visible\":true},\"name\":\"N=128,K=65,l=128,n=10000,exact=0,PW,wt\",\"x\":[0.06,0.07,0.08,0.09,0.1,0.11,0.12,0.13,0.14,0.15,0.16,0.17,0.18,0.19,0.2],\"y\":[0.039290000000000005,0.07099,0.11629999999999999,0.17479999999999998,0.24523,0.32048,0.39632,0.46758,0.53029,0.5842399999999999,0.6242099999999999,0.6566,0.6804500000000001,0.70062,0.71496],\"type\":\"scatter\"},{\"error_y\":{\"array\":[0.0006946221994724904,0.0014821943192442747,0.0014388884598883955,0.003388273896838921,0.00319914050957441,0.007355141059150393,0.005561438662792195,0.0025496862552086682,0.005428305444611623,0.00602375298298328,0.004667986718061665,0.0040924931276668085,0.004195759764333508,0.0037592685458743324,0.003944730662542116],\"type\":\"data\",\"visible\":true},\"name\":\"N=512,K=257,l=128,n=10000,exact=0,PW,deg\",\"x\":[0.06,0.07,0.08,0.09,0.1,0.11,0.12,0.13,0.14,0.15,0.16,0.17,0.18,0.19,0.2],\"y\":[0.004450000000000001,0.016090000000000004,0.04636,0.11063999999999999,0.22865000000000002,0.3603700000000001,0.49451999999999996,0.6100100000000002,0.66435,0.7055800000000001,0.7290300000000001,0.73555,0.74484,0.7466300000000001,0.74599],\"type\":\"scatter\"},{\"error_y\":{\"array\":[0.0003132091952673166,0.0009042123644365853,0.0018628204422326917,0.002405930173550345,0.0031473957488692117,0.004880829847474716,0.004960806386062655,0.0031712615786150616,0.003827740848072127,0.004592047473622186,0.00431629470726919,0.005882932941994142,0.005290217386837724,0.004025667646490447,0.004603476946830503],\"type\":\"data\",\"visible\":true},\"name\":\"N=512,K=257,l=128,n=10000,exact=0,PW,wt\",\"x\":[0.06,0.07,0.08,0.09,0.1,0.11,0.12,0.13,0.14,0.15,0.16,0.17,0.18,0.19,0.2],\"y\":[0.0036700000000000005,0.01348,0.03997,0.09875,0.20213,0.33835,0.47707999999999995,0.5870099999999999,0.65588,0.69949,0.7234400000000001,0.73289,0.74346,0.7454,0.7472000000000001],\"type\":\"scatter\"},{\"error_y\":{\"array\":[0.0016291408778862566,0.002991136907598846,0.0042040575638304465,0.0036732002395731176,0.004240530627173903,0.005144472762101085,0.0037030392922571083,0.0035859308414970957,0.0045354602853514255,0.0049134102210175775,0.005018854450967875,0.00422328071527338,0.006198580482658917,0.003171766069558085,0.004578209256903841],\"type\":\"data\",\"visible\":true},\"name\":\"N=64,K=33,l=128,n=10000,exact=0,PW,deg\",\"x\":[0.06,0.07,0.08,0.09,0.1,0.11,0.12,0.13,0.14,0.15,0.16,0.17,0.18,0.19,0.2],\"y\":[0.06767,0.10830999999999999,0.15823,0.21326,0.27463,0.33482,0.39335,0.44828999999999997,0.5017400000000001,0.54772,0.58731,0.6211300000000001,0.64894,0.6722699999999999,0.6926],\"type\":\"scatter\"},{\"error_y\":{\"array\":[0.0019429101883514837,0.0033274614948936676,0.003191300675273325,0.003677240813436073,0.005767226369755219,0.006365131577587376,0.006109140692437858,0.0038272705679112955,0.004074800608618782,0.004819751030914351,0.005450733895541047,0.004742530969851442,0.005316164030576934,0.004873356133097601,0.0035951216947413527],\"type\":\"data\",\"visible\":true},\"name\":\"N=64,K=33,l=128,n=10000,exact=0,PW,wt\",\"x\":[0.06,0.07,0.08,0.09,0.1,0.11,0.12,0.13,0.14,0.15,0.16,0.17,0.18,0.19,0.2],\"y\":[0.06391,0.10300000000000001,0.15086000000000002,0.20387,0.26199000000000006,0.32259,0.38167999999999996,0.4364,0.48789999999999994,0.5359,0.57595,0.6115800000000001,0.64068,0.66482,0.6841100000000001],\"type\":\"scatter\"},{\"error_y\":{\"array\":[0.0004029888335921975,0.0009914131328563286,0.0015786386540307439,0.0025358233376952728,0.002373099239391391,0.005782464872353312,0.006131402775874375,0.005200778787835539,0.005600080356566323,0.004930963394713039,0.0037194085551334683,0.0026605262637305555,0.00432458090455017,0.0035057238910102513,0.0059074867752708414],\"type\":\"data\",\"visible\":true},\"name\":\"N=512,K=257,l=128,n=10000,exact=0,HPW,deg\",\"x\":[0.06,0.07,0.08,0.09,0.1,0.11,0.12,0.13,0.14,0.15,0.16,0.17,0.18,0.19,0.2],\"y\":[0.004940000000000001,0.015809999999999998,0.04517,0.10933999999999999,0.23077999999999999,0.3659899999999999,0.5059699999999999,0.6161300000000001,0.6651900000000001,0.70106,0.7293,0.73464,0.7442,0.7415700000000001,0.7453399999999999],\"type\":\"scatter\"},{\"error_y\":{\"array\":[0.0005481788029466298,0.0009677293009927935,0.0023888072337465835,0.0022424094184604207,0.0017728226081590863,0.005970803965966396,0.007023133203919736,0.004194103003027,0.0034572966317630354,0.004080502420045869,0.00616805479871895,0.002903790626061043,0.005565932087260858,0.002766387536119982,0.003218710922092891],\"type\":\"data\",\"visible\":true},\"name\":\"N=512,K=257,l=128,n=10000,exact=0,HPW,wt\",\"x\":[0.06,0.07,0.08,0.09,0.1,0.11,0.12,0.13,0.14,0.15,0.16,0.17,0.18,0.19,0.2],\"y\":[0.00435,0.013949999999999999,0.03916000000000001,0.09913999999999999,0.20800999999999997,0.34725000000000006,0.4865399999999999,0.60165,0.6604099999999999,0.6989500000000001,0.7260899999999999,0.7333000000000001,0.7419200000000001,0.7419899999999998,0.7457300000000001],\"type\":\"scatter\"},{\"error_y\":{\"array\":[0.0,0.0,0.0,0.0,0.0,0.0,0.0,0.0,0.0,0.0,0.0,0.0,0.0,0.0,0.0],\"type\":\"data\",\"visible\":true},\"name\":\"N=256,K=129,l=128,n=10000,exact=0,HPW,deg\",\"x\":[0.06,0.07,0.08,0.09,0.1,0.11,0.12,0.13,0.14,0.15,0.16,0.17,0.18,0.19,0.2],\"y\":[0.0076,0.0258,0.0675,0.1347,0.2304,0.3346,0.4385,0.5477,0.6079,0.6667,0.7034,0.719,0.7358,0.7397,0.739],\"type\":\"scatter\"},{\"error_y\":{\"array\":[0.0,0.0,0.0,0.0,0.0,0.0,0.0,0.0,0.0,0.0,0.0,0.0,0.0,0.0,0.0],\"type\":\"data\",\"visible\":true},\"name\":\"N=256,K=129,l=128,n=10000,exact=0,HPW,wt\",\"x\":[0.06,0.07,0.08,0.09,0.1,0.11,0.12,0.13,0.14,0.15,0.16,0.17,0.18,0.19,0.2],\"y\":[0.0073,0.0225,0.0586,0.1194,0.2109,0.3107,0.4148,0.5166,0.5972,0.6517,0.6847,0.7129,0.7274,0.7407,0.745],\"type\":\"scatter\"},{\"error_y\":{\"array\":[0.0019610201426808454,0.001462908062729848,0.0023568835355188855,0.003591670920337779,0.0040693488422596505,0.0039640383449205015,0.004186275194011975,0.004693836384025334,0.004177367592156582,0.0035702801010564847,0.002902430016382823,0.0023976863848301777,0.004037276309592899,0.003173389355247803,0.004300244179113568],\"type\":\"data\",\"visible\":true},\"name\":\"N=128,K=65,l=128,n=10000,exact=0,HPW,deg\",\"x\":[0.06,0.07,0.08,0.09,0.1,0.11,0.12,0.13,0.14,0.15,0.16,0.17,0.18,0.19,0.2],\"y\":[0.04048,0.07526999999999999,0.12171000000000001,0.18687,0.26982,0.34048,0.4221100000000001,0.50633,0.5552599999999999,0.6045900000000001,0.6601699999999999,0.67621,0.7067199999999999,0.7089599999999999,0.7288300000000001],\"type\":\"scatter\"},{\"error_y\":{\"array\":[0.0022676860452893388,0.0035623728047468575,0.003091747078918325,0.0032848287626602423,0.0032803048638807945,0.004260622020315808,0.003086891640469419,0.0035465617152391398,0.0031182687504447137,0.0043778990394936984,0.00309993548319959,0.0031616609558901125,0.0029093641917092264,0.00203361746648675,0.005812951057767477],\"type\":\"data\",\"visible\":true},\"name\":\"N=128,K=65,l=128,n=10000,exact=0,HPW,wt\",\"x\":[0.06,0.07,0.08,0.09,0.1,0.11,0.12,0.13,0.14,0.15,0.16,0.17,0.18,0.19,0.2],\"y\":[0.03704,0.06855000000000001,0.11101000000000001,0.17197,0.24356,0.3189099999999999,0.39481,0.47006999999999993,0.53402,0.587,0.62862,0.66313,0.68874,0.70312,0.7173400000000002],\"type\":\"scatter\"},{\"error_y\":{\"array\":[0.0016291408778862566,0.002991136907598846,0.0042040575638304465,0.0036732002395731176,0.004240530627173903,0.005144472762101085,0.0037030392922571083,0.0035859308414970957,0.0045354602853514255,0.0049134102210175775,0.005018854450967875,0.00422328071527338,0.006198580482658917,0.003171766069558085,0.004578209256903841],\"type\":\"data\",\"visible\":true},\"name\":\"N=64,K=33,l=128,n=10000,exact=0,HPW,deg\",\"x\":[0.06,0.07,0.08,0.09,0.1,0.11,0.12,0.13,0.14,0.15,0.16,0.17,0.18,0.19,0.2],\"y\":[0.06767,0.10830999999999999,0.15823,0.21326,0.27463,0.33482,0.39335,0.44828999999999997,0.5017400000000001,0.54772,0.58731,0.6211300000000001,0.64894,0.6722699999999999,0.6926],\"type\":\"scatter\"},{\"error_y\":{\"array\":[0.0019429101883514837,0.0033274614948936676,0.003191300675273325,0.003677240813436073,0.005767226369755219,0.006365131577587376,0.006109140692437858,0.0038272705679112955,0.004074800608618782,0.004819751030914351,0.005450733895541047,0.004742530969851442,0.005316164030576934,0.004873356133097601,0.0035951216947413527],\"type\":\"data\",\"visible\":true},\"name\":\"N=64,K=33,l=128,n=10000,exact=0,HPW,wt\",\"x\":[0.06,0.07,0.08,0.09,0.1,0.11,0.12,0.13,0.14,0.15,0.16,0.17,0.18,0.19,0.2],\"y\":[0.06391,0.10300000000000001,0.15086000000000002,0.20387,0.26199000000000006,0.32259,0.38167999999999996,0.4364,0.48789999999999994,0.5359,0.57595,0.6115800000000001,0.64068,0.66482,0.6841100000000001],\"type\":\"scatter\"},{\"error_y\":{\"array\":[0.0,0.0,0.0,0.0,0.0,0.0,0.0,0.0,0.0,0.0,0.0,0.0,0.0,0.0,0.0],\"type\":\"data\",\"visible\":true},\"name\":\"N=512,K=257,l=1,n=10000,exact=0,PW,deg\",\"x\":[0.06,0.07,0.08,0.09,0.1,0.11,0.12,0.13,0.14,0.15,0.16,0.17,0.18,0.19,0.2],\"y\":[0.022,0.0629,0.1512,0.2652,0.3893,0.5107,0.5959,0.6464,0.6882,0.7106,0.7259,0.7231,0.7393,0.7563,0.7399],\"type\":\"scatter\"},{\"error_y\":{\"array\":[0.0,0.0,0.0,0.0,0.0,0.0,0.0,0.0,0.0,0.0,0.0,0.0,0.0,0.0,0.0],\"type\":\"data\",\"visible\":true},\"name\":\"N=512,K=257,l=1,n=10000,exact=0,PW,wt\",\"x\":[0.06,0.07,0.08,0.09,0.1,0.11,0.12,0.13,0.14,0.15,0.16,0.17,0.18,0.19,0.2],\"y\":[0.022,0.0629,0.1512,0.2652,0.3893,0.5107,0.5959,0.6464,0.6882,0.7106,0.7259,0.7231,0.7393,0.7563,0.7399],\"type\":\"scatter\"},{\"error_y\":{\"array\":[0.0,0.0,0.0,0.0,0.0,0.0,0.0,0.0,0.0,0.0,0.0,0.0,0.0,0.0,0.0],\"type\":\"data\",\"visible\":true},\"name\":\"N=1024,K=513,l=1,n=10000,exact=0,PW,deg\",\"x\":[0.06,0.07,0.08,0.09,0.1,0.11,0.12,0.13,0.14,0.15,0.16,0.17,0.18,0.19,0.2],\"y\":[0.0066,0.0342,0.1039,0.2473,0.4232,0.5698,0.6712,0.7095,0.7472,0.7448,0.7531,0.7524,0.7593,0.753,0.7532],\"type\":\"scatter\"},{\"error_y\":{\"array\":[0.0,0.0,0.0,0.0,0.0,0.0,0.0,0.0,0.0,0.0,0.0,0.0,0.0,0.0,0.0],\"type\":\"data\",\"visible\":true},\"name\":\"N=1024,K=513,l=1,n=10000,exact=0,PW,wt\",\"x\":[0.06,0.07,0.08,0.09,0.1,0.11,0.12,0.13,0.14,0.15,0.16,0.17,0.18,0.19,0.2],\"y\":[0.0066,0.0342,0.1039,0.2473,0.4232,0.5698,0.6712,0.7095,0.7472,0.7448,0.7531,0.7524,0.7593,0.753,0.7532],\"type\":\"scatter\"},{\"error_y\":{\"array\":[0.0,0.0,0.0,0.0,0.0,0.0,0.0,0.0,0.0,0.0,0.0,0.0,0.0,0.0,0.0],\"type\":\"data\",\"visible\":true},\"name\":\"N=256,K=129,l=1,n=10000,exact=0,PW,deg\",\"x\":[0.06,0.07,0.08,0.09,0.1,0.11,0.12,0.13,0.14,0.15,0.16,0.17,0.18,0.19,0.2],\"y\":[0.0359,0.0801,0.1502,0.2394,0.3434,0.4404,0.5324,0.596,0.6514,0.6842,0.7121,0.7235,0.7312,0.7357,0.7409],\"type\":\"scatter\"},{\"error_y\":{\"array\":[0.0,0.0,0.0,0.0,0.0,0.0,0.0,0.0,0.0,0.0,0.0,0.0,0.0,0.0,0.0],\"type\":\"data\",\"visible\":true},\"name\":\"N=256,K=129,l=1,n=10000,exact=0,PW,wt\",\"x\":[0.06,0.07,0.08,0.09,0.1,0.11,0.12,0.13,0.14,0.15,0.16,0.17,0.18,0.19,0.2],\"y\":[0.0359,0.0801,0.1502,0.2394,0.3434,0.4404,0.5324,0.596,0.6514,0.6842,0.7121,0.7235,0.7312,0.7357,0.7409],\"type\":\"scatter\"},{\"error_y\":{\"array\":[0.0,0.0,0.0,0.0,0.0,0.0,0.0,0.0,0.0,0.0,0.0,0.0,0.0,0.0,0.0],\"type\":\"data\",\"visible\":true},\"name\":\"N=2048,K=1025,l=1,n=10000,exact=0,PW,deg\",\"x\":[0.06,0.07,0.08,0.09,0.1,0.11,0.12,0.13,0.14,0.15,0.16,0.17,0.18,0.19,0.2],\"y\":[0.0033,0.0291,0.1148,0.2952,0.5034,0.6413,0.7038,0.7387,0.7392,0.7501,0.7503,0.7512,0.7551,0.7465,0.7492],\"type\":\"scatter\"},{\"error_y\":{\"array\":[0.0,0.0,0.0,0.0,0.0,0.0,0.0,0.0,0.0,0.0,0.0,0.0,0.0,0.0,0.0],\"type\":\"data\",\"visible\":true},\"name\":\"N=2048,K=1025,l=1,n=10000,exact=0,PW,wt\",\"x\":[0.06,0.07,0.08,0.09,0.1,0.11,0.12,0.13,0.14,0.15,0.16,0.17,0.18,0.19,0.2],\"y\":[0.0033,0.0291,0.1148,0.2952,0.5034,0.6413,0.7038,0.7387,0.7392,0.7501,0.7503,0.7512,0.7551,0.7465,0.7492],\"type\":\"scatter\"},{\"error_y\":{\"array\":[0.0,0.0,0.0,0.0,0.0,0.0,0.0,0.0,0.0,0.0,0.0,0.0,0.0,0.0,0.0],\"type\":\"data\",\"visible\":true},\"name\":\"N=4096,K=2049,l=1,n=10000,exact=0,PW,deg\",\"x\":[0.06,0.07,0.08,0.09,0.1,0.11,0.12,0.13,0.14,0.15,0.16,0.17,0.18,0.19,0.2],\"y\":[0.0006,0.0056,0.0693,0.2845,0.5538,0.6898,0.7421,0.7539,0.7466,0.7481,0.7545,0.7487,0.7495,0.7488,0.7482],\"type\":\"scatter\"},{\"error_y\":{\"array\":[0.0,0.0,0.0,0.0,0.0,0.0,0.0,0.0,0.0,0.0,0.0,0.0,0.0,0.0,0.0],\"type\":\"data\",\"visible\":true},\"name\":\"N=4096,K=2049,l=1,n=10000,exact=0,PW,wt\",\"x\":[0.06,0.07,0.08,0.09,0.1,0.11,0.12,0.13,0.14,0.15,0.16,0.17,0.18,0.19,0.2],\"y\":[0.0006,0.0056,0.0693,0.2845,0.5538,0.6898,0.7421,0.7539,0.7466,0.7481,0.7545,0.7487,0.7495,0.7488,0.7482],\"type\":\"scatter\"},{\"error_y\":{\"array\":[4e-05,0.0001044030650891055,0.00032264531609803353,0.0018073461206974167,0.004462779403017809,0.004010735593379345,0.004849288607620685,0.0037403743128194954,0.003604289111600246,0.003387166957798212,0.0038813528569301573,0.004210700654285459,0.003959292866156784,0.0050630425635184865,0.003484035017045616],\"type\":\"data\",\"visible\":true},\"name\":\"N=2048,K=1025,l=128,n=10000,exact=0,PW,deg\",\"x\":[0.06,0.07,0.08,0.09,0.1,0.11,0.12,0.13,0.14,0.15,0.16,0.17,0.18,0.19,0.2],\"y\":[2e-05,0.00021000000000000004,0.00297,0.03165,0.17754,0.42889999999999995,0.6210199999999999,0.7112400000000001,0.74021,0.74781,0.75091,0.7503,0.7503,0.7491399999999999,0.74755],\"type\":\"scatter\"},{\"error_y\":{\"array\":[3e-05,0.00012,0.0003144837038703278,0.0017223240113288791,0.0038672470828743297,0.004881761976991508,0.005606077059762916,0.0034124624540058865,0.0038226823043512144,0.003191614011750178,0.002805637182530897,0.002515332979945197,0.00471342762753392,0.004770754657284293,0.004399647713169771],\"type\":\"data\",\"visible\":true},\"name\":\"N=2048,K=1025,l=128,n=10000,exact=0,PW,wt\",\"x\":[0.06,0.07,0.08,0.09,0.1,0.11,0.12,0.13,0.14,0.15,0.16,0.17,0.18,0.19,0.2],\"y\":[1e-05,0.00016,0.0023899999999999998,0.02894,0.16782000000000002,0.42278000000000004,0.61977,0.71031,0.74141,0.74854,0.74832,0.7511099999999999,0.7498400000000001,0.74977,0.74801],\"type\":\"scatter\"}],                        {\"template\":{\"data\":{\"histogram2dcontour\":[{\"type\":\"histogram2dcontour\",\"colorbar\":{\"outlinewidth\":0,\"ticks\":\"\"},\"colorscale\":[[0.0,\"#0d0887\"],[0.1111111111111111,\"#46039f\"],[0.2222222222222222,\"#7201a8\"],[0.3333333333333333,\"#9c179e\"],[0.4444444444444444,\"#bd3786\"],[0.5555555555555556,\"#d8576b\"],[0.6666666666666666,\"#ed7953\"],[0.7777777777777778,\"#fb9f3a\"],[0.8888888888888888,\"#fdca26\"],[1.0,\"#f0f921\"]]}],\"choropleth\":[{\"type\":\"choropleth\",\"colorbar\":{\"outlinewidth\":0,\"ticks\":\"\"}}],\"histogram2d\":[{\"type\":\"histogram2d\",\"colorbar\":{\"outlinewidth\":0,\"ticks\":\"\"},\"colorscale\":[[0.0,\"#0d0887\"],[0.1111111111111111,\"#46039f\"],[0.2222222222222222,\"#7201a8\"],[0.3333333333333333,\"#9c179e\"],[0.4444444444444444,\"#bd3786\"],[0.5555555555555556,\"#d8576b\"],[0.6666666666666666,\"#ed7953\"],[0.7777777777777778,\"#fb9f3a\"],[0.8888888888888888,\"#fdca26\"],[1.0,\"#f0f921\"]]}],\"heatmap\":[{\"type\":\"heatmap\",\"colorbar\":{\"outlinewidth\":0,\"ticks\":\"\"},\"colorscale\":[[0.0,\"#0d0887\"],[0.1111111111111111,\"#46039f\"],[0.2222222222222222,\"#7201a8\"],[0.3333333333333333,\"#9c179e\"],[0.4444444444444444,\"#bd3786\"],[0.5555555555555556,\"#d8576b\"],[0.6666666666666666,\"#ed7953\"],[0.7777777777777778,\"#fb9f3a\"],[0.8888888888888888,\"#fdca26\"],[1.0,\"#f0f921\"]]}],\"heatmapgl\":[{\"type\":\"heatmapgl\",\"colorbar\":{\"outlinewidth\":0,\"ticks\":\"\"},\"colorscale\":[[0.0,\"#0d0887\"],[0.1111111111111111,\"#46039f\"],[0.2222222222222222,\"#7201a8\"],[0.3333333333333333,\"#9c179e\"],[0.4444444444444444,\"#bd3786\"],[0.5555555555555556,\"#d8576b\"],[0.6666666666666666,\"#ed7953\"],[0.7777777777777778,\"#fb9f3a\"],[0.8888888888888888,\"#fdca26\"],[1.0,\"#f0f921\"]]}],\"contourcarpet\":[{\"type\":\"contourcarpet\",\"colorbar\":{\"outlinewidth\":0,\"ticks\":\"\"}}],\"contour\":[{\"type\":\"contour\",\"colorbar\":{\"outlinewidth\":0,\"ticks\":\"\"},\"colorscale\":[[0.0,\"#0d0887\"],[0.1111111111111111,\"#46039f\"],[0.2222222222222222,\"#7201a8\"],[0.3333333333333333,\"#9c179e\"],[0.4444444444444444,\"#bd3786\"],[0.5555555555555556,\"#d8576b\"],[0.6666666666666666,\"#ed7953\"],[0.7777777777777778,\"#fb9f3a\"],[0.8888888888888888,\"#fdca26\"],[1.0,\"#f0f921\"]]}],\"surface\":[{\"type\":\"surface\",\"colorbar\":{\"outlinewidth\":0,\"ticks\":\"\"},\"colorscale\":[[0.0,\"#0d0887\"],[0.1111111111111111,\"#46039f\"],[0.2222222222222222,\"#7201a8\"],[0.3333333333333333,\"#9c179e\"],[0.4444444444444444,\"#bd3786\"],[0.5555555555555556,\"#d8576b\"],[0.6666666666666666,\"#ed7953\"],[0.7777777777777778,\"#fb9f3a\"],[0.8888888888888888,\"#fdca26\"],[1.0,\"#f0f921\"]]}],\"mesh3d\":[{\"type\":\"mesh3d\",\"colorbar\":{\"outlinewidth\":0,\"ticks\":\"\"}}],\"scatter\":[{\"fillpattern\":{\"fillmode\":\"overlay\",\"size\":10,\"solidity\":0.2},\"type\":\"scatter\"}],\"parcoords\":[{\"type\":\"parcoords\",\"line\":{\"colorbar\":{\"outlinewidth\":0,\"ticks\":\"\"}}}],\"scatterpolargl\":[{\"type\":\"scatterpolargl\",\"marker\":{\"colorbar\":{\"outlinewidth\":0,\"ticks\":\"\"}}}],\"bar\":[{\"error_x\":{\"color\":\"#2a3f5f\"},\"error_y\":{\"color\":\"#2a3f5f\"},\"marker\":{\"line\":{\"color\":\"#E5ECF6\",\"width\":0.5},\"pattern\":{\"fillmode\":\"overlay\",\"size\":10,\"solidity\":0.2}},\"type\":\"bar\"}],\"scattergeo\":[{\"type\":\"scattergeo\",\"marker\":{\"colorbar\":{\"outlinewidth\":0,\"ticks\":\"\"}}}],\"scatterpolar\":[{\"type\":\"scatterpolar\",\"marker\":{\"colorbar\":{\"outlinewidth\":0,\"ticks\":\"\"}}}],\"histogram\":[{\"marker\":{\"pattern\":{\"fillmode\":\"overlay\",\"size\":10,\"solidity\":0.2}},\"type\":\"histogram\"}],\"scattergl\":[{\"type\":\"scattergl\",\"marker\":{\"colorbar\":{\"outlinewidth\":0,\"ticks\":\"\"}}}],\"scatter3d\":[{\"type\":\"scatter3d\",\"line\":{\"colorbar\":{\"outlinewidth\":0,\"ticks\":\"\"}},\"marker\":{\"colorbar\":{\"outlinewidth\":0,\"ticks\":\"\"}}}],\"scattermapbox\":[{\"type\":\"scattermapbox\",\"marker\":{\"colorbar\":{\"outlinewidth\":0,\"ticks\":\"\"}}}],\"scatterternary\":[{\"type\":\"scatterternary\",\"marker\":{\"colorbar\":{\"outlinewidth\":0,\"ticks\":\"\"}}}],\"scattercarpet\":[{\"type\":\"scattercarpet\",\"marker\":{\"colorbar\":{\"outlinewidth\":0,\"ticks\":\"\"}}}],\"carpet\":[{\"aaxis\":{\"endlinecolor\":\"#2a3f5f\",\"gridcolor\":\"white\",\"linecolor\":\"white\",\"minorgridcolor\":\"white\",\"startlinecolor\":\"#2a3f5f\"},\"baxis\":{\"endlinecolor\":\"#2a3f5f\",\"gridcolor\":\"white\",\"linecolor\":\"white\",\"minorgridcolor\":\"white\",\"startlinecolor\":\"#2a3f5f\"},\"type\":\"carpet\"}],\"table\":[{\"cells\":{\"fill\":{\"color\":\"#EBF0F8\"},\"line\":{\"color\":\"white\"}},\"header\":{\"fill\":{\"color\":\"#C8D4E3\"},\"line\":{\"color\":\"white\"}},\"type\":\"table\"}],\"barpolar\":[{\"marker\":{\"line\":{\"color\":\"#E5ECF6\",\"width\":0.5},\"pattern\":{\"fillmode\":\"overlay\",\"size\":10,\"solidity\":0.2}},\"type\":\"barpolar\"}],\"pie\":[{\"automargin\":true,\"type\":\"pie\"}]},\"layout\":{\"autotypenumbers\":\"strict\",\"colorway\":[\"#636efa\",\"#EF553B\",\"#00cc96\",\"#ab63fa\",\"#FFA15A\",\"#19d3f3\",\"#FF6692\",\"#B6E880\",\"#FF97FF\",\"#FECB52\"],\"font\":{\"color\":\"#2a3f5f\"},\"hovermode\":\"closest\",\"hoverlabel\":{\"align\":\"left\"},\"paper_bgcolor\":\"white\",\"plot_bgcolor\":\"#E5ECF6\",\"polar\":{\"bgcolor\":\"#E5ECF6\",\"angularaxis\":{\"gridcolor\":\"white\",\"linecolor\":\"white\",\"ticks\":\"\"},\"radialaxis\":{\"gridcolor\":\"white\",\"linecolor\":\"white\",\"ticks\":\"\"}},\"ternary\":{\"bgcolor\":\"#E5ECF6\",\"aaxis\":{\"gridcolor\":\"white\",\"linecolor\":\"white\",\"ticks\":\"\"},\"baxis\":{\"gridcolor\":\"white\",\"linecolor\":\"white\",\"ticks\":\"\"},\"caxis\":{\"gridcolor\":\"white\",\"linecolor\":\"white\",\"ticks\":\"\"}},\"coloraxis\":{\"colorbar\":{\"outlinewidth\":0,\"ticks\":\"\"}},\"colorscale\":{\"sequential\":[[0.0,\"#0d0887\"],[0.1111111111111111,\"#46039f\"],[0.2222222222222222,\"#7201a8\"],[0.3333333333333333,\"#9c179e\"],[0.4444444444444444,\"#bd3786\"],[0.5555555555555556,\"#d8576b\"],[0.6666666666666666,\"#ed7953\"],[0.7777777777777778,\"#fb9f3a\"],[0.8888888888888888,\"#fdca26\"],[1.0,\"#f0f921\"]],\"sequentialminus\":[[0.0,\"#0d0887\"],[0.1111111111111111,\"#46039f\"],[0.2222222222222222,\"#7201a8\"],[0.3333333333333333,\"#9c179e\"],[0.4444444444444444,\"#bd3786\"],[0.5555555555555556,\"#d8576b\"],[0.6666666666666666,\"#ed7953\"],[0.7777777777777778,\"#fb9f3a\"],[0.8888888888888888,\"#fdca26\"],[1.0,\"#f0f921\"]],\"diverging\":[[0,\"#8e0152\"],[0.1,\"#c51b7d\"],[0.2,\"#de77ae\"],[0.3,\"#f1b6da\"],[0.4,\"#fde0ef\"],[0.5,\"#f7f7f7\"],[0.6,\"#e6f5d0\"],[0.7,\"#b8e186\"],[0.8,\"#7fbc41\"],[0.9,\"#4d9221\"],[1,\"#276419\"]]},\"xaxis\":{\"gridcolor\":\"white\",\"linecolor\":\"white\",\"ticks\":\"\",\"title\":{\"standoff\":15},\"zerolinecolor\":\"white\",\"automargin\":true,\"zerolinewidth\":2},\"yaxis\":{\"gridcolor\":\"white\",\"linecolor\":\"white\",\"ticks\":\"\",\"title\":{\"standoff\":15},\"zerolinecolor\":\"white\",\"automargin\":true,\"zerolinewidth\":2},\"scene\":{\"xaxis\":{\"backgroundcolor\":\"#E5ECF6\",\"gridcolor\":\"white\",\"linecolor\":\"white\",\"showbackground\":true,\"ticks\":\"\",\"zerolinecolor\":\"white\",\"gridwidth\":2},\"yaxis\":{\"backgroundcolor\":\"#E5ECF6\",\"gridcolor\":\"white\",\"linecolor\":\"white\",\"showbackground\":true,\"ticks\":\"\",\"zerolinecolor\":\"white\",\"gridwidth\":2},\"zaxis\":{\"backgroundcolor\":\"#E5ECF6\",\"gridcolor\":\"white\",\"linecolor\":\"white\",\"showbackground\":true,\"ticks\":\"\",\"zerolinecolor\":\"white\",\"gridwidth\":2}},\"shapedefaults\":{\"line\":{\"color\":\"#2a3f5f\"}},\"annotationdefaults\":{\"arrowcolor\":\"#2a3f5f\",\"arrowhead\":0,\"arrowwidth\":1},\"geo\":{\"bgcolor\":\"white\",\"landcolor\":\"#E5ECF6\",\"subunitcolor\":\"white\",\"showland\":true,\"showlakes\":true,\"lakecolor\":\"white\"},\"title\":{\"x\":0.05},\"mapbox\":{\"style\":\"light\"}}}},                        {\"responsive\": true}                    ).then(function(){\n",
       "                            \n",
       "var gd = document.getElementById('a25881cc-61c4-46ac-bc55-9c1c0dc543d8');\n",
       "var x = new MutationObserver(function (mutations, observer) {{\n",
       "        var display = window.getComputedStyle(gd).display;\n",
       "        if (!display || display === 'none') {{\n",
       "            console.log([gd, 'removed!']);\n",
       "            Plotly.purge(gd);\n",
       "            observer.disconnect();\n",
       "        }}\n",
       "}});\n",
       "\n",
       "// Listen for the removal of the full notebook cells\n",
       "var notebookContainer = gd.closest('#notebook-container');\n",
       "if (notebookContainer) {{\n",
       "    x.observe(notebookContainer, {childList: true});\n",
       "}}\n",
       "\n",
       "// Listen for the clearing of the current output cell\n",
       "var outputEl = gd.closest('.output');\n",
       "if (outputEl) {{\n",
       "    x.observe(outputEl, {childList: true});\n",
       "}}\n",
       "\n",
       "                        })                };                });            </script>        </div>"
      ]
     },
     "metadata": {},
     "output_type": "display_data"
    }
   ],
   "source": [
    "fig = go.Figure()\n",
    "\n",
    "for x,y in data_dict.items():\n",
    "    if ('PW' in x):\n",
    "        fig.add_scatter(x=y[0], y=y[1], error_y=dict(type='data', array=y[2], visible=True), name=x)\n",
    "\n",
    "fig.show()\n",
    "fig.write_html(\"HPW_vs_PW.html\")"
   ]
  },
  {
   "cell_type": "code",
   "execution_count": 9,
   "id": "b2b4219b",
   "metadata": {},
   "outputs": [
    {
     "data": {
      "application/vnd.plotly.v1+json": {
       "config": {
        "plotlyServerURL": "https://plot.ly"
       },
       "data": [
        {
         "mode": "lines+markers",
         "name": "N=1024,K=513,l=128,n=10000,exact=0,RM,deg",
         "type": "scatter",
         "x": [
          0.06,
          0.07,
          0.08,
          0.09,
          0.1,
          0.11,
          0.12,
          0.13,
          0.14,
          0.15,
          0.16,
          0.17,
          0.18,
          0.19,
          0.2,
          0.21
         ],
         "y": [
          0.0403,
          0.1416,
          0.2871,
          0.4357,
          0.5369,
          0.6235,
          0.6881,
          0.7286,
          0.7533,
          0.7429,
          0.7493,
          0.7425,
          0.7486,
          0.7479,
          0.7528,
          0.7527
         ]
        },
        {
         "mode": "lines+markers",
         "name": "N=1024,K=513,l=128,n=10000,exact=0,RM,wt",
         "type": "scatter",
         "x": [
          0.06,
          0.07,
          0.08,
          0.09,
          0.1,
          0.11,
          0.12,
          0.13,
          0.14,
          0.15,
          0.16,
          0.17,
          0.18,
          0.19,
          0.2,
          0.21
         ],
         "y": [
          0.0399,
          0.1409,
          0.2858,
          0.4362,
          0.5386,
          0.6183,
          0.6903,
          0.7309,
          0.755,
          0.7477,
          0.7455,
          0.7453,
          0.7472,
          0.7498,
          0.7524,
          0.7517
         ]
        },
        {
         "mode": "lines+markers",
         "name": "N=256,K=129,l=128,n=10000,exact=0,RM,deg",
         "type": "scatter",
         "x": [
          0.06,
          0.07,
          0.08,
          0.09,
          0.1,
          0.11,
          0.12,
          0.13,
          0.14,
          0.15,
          0.16,
          0.17,
          0.18,
          0.19,
          0.2,
          0.21
         ],
         "y": [
          0.0225,
          0.0558,
          0.1132,
          0.1907,
          0.2859,
          0.3874,
          0.4646,
          0.5393,
          0.5984,
          0.6441,
          0.6757,
          0.6983,
          0.7283,
          0.7377,
          0.7459,
          0.7492
         ]
        },
        {
         "mode": "lines+markers",
         "name": "N=256,K=129,l=128,n=10000,exact=0,RM,wt",
         "type": "scatter",
         "x": [
          0.06,
          0.07,
          0.08,
          0.09,
          0.1,
          0.11,
          0.12,
          0.13,
          0.14,
          0.15,
          0.16,
          0.17,
          0.18,
          0.19,
          0.2,
          0.21
         ],
         "y": [
          0.0204,
          0.0515,
          0.1024,
          0.1772,
          0.269,
          0.3699,
          0.4536,
          0.53,
          0.5905,
          0.6342,
          0.6666,
          0.7047,
          0.7264,
          0.7375,
          0.7473,
          0.7458
         ]
        },
        {
         "mode": "lines+markers",
         "name": "N=64,K=33,l=128,n=10000,exact=0,RM,deg",
         "type": "scatter",
         "x": [
          0.06,
          0.07,
          0.08,
          0.09,
          0.1,
          0.11,
          0.12,
          0.13,
          0.14,
          0.15,
          0.16,
          0.17,
          0.18,
          0.19,
          0.2,
          0.21
         ],
         "y": [
          0.0797,
          0.1261,
          0.1785,
          0.233,
          0.2952,
          0.3553,
          0.4105,
          0.4615,
          0.5057,
          0.5531,
          0.5851,
          0.6137,
          0.6506,
          0.6674,
          0.6928,
          0.7037
         ]
        },
        {
         "mode": "lines+markers",
         "name": "N=64,K=33,l=128,n=10000,exact=0,RM,wt",
         "type": "scatter",
         "x": [
          0.06,
          0.07,
          0.08,
          0.09,
          0.1,
          0.11,
          0.12,
          0.13,
          0.14,
          0.15,
          0.16,
          0.17,
          0.18,
          0.19,
          0.2,
          0.21
         ],
         "y": [
          0.078,
          0.1242,
          0.1694,
          0.2245,
          0.2879,
          0.3455,
          0.3982,
          0.454,
          0.4981,
          0.5412,
          0.5754,
          0.6109,
          0.6397,
          0.6587,
          0.677,
          0.701
         ]
        },
        {
         "mode": "lines+markers",
         "name": "N=128,K=65,l=128,n=10000,exact=0,RM,deg",
         "type": "scatter",
         "x": [
          0.06,
          0.07,
          0.08,
          0.09,
          0.1,
          0.11,
          0.12,
          0.13,
          0.14,
          0.15,
          0.16,
          0.17,
          0.18,
          0.19,
          0.2,
          0.21
         ],
         "y": [
          0.0194,
          0.0464,
          0.0928,
          0.1559,
          0.2404,
          0.3172,
          0.4119,
          0.5069,
          0.5665,
          0.6193,
          0.6742,
          0.684,
          0.7206,
          0.7225,
          0.7427,
          0.7498
         ]
        },
        {
         "mode": "lines+markers",
         "name": "N=128,K=65,l=128,n=10000,exact=0,RM,wt",
         "type": "scatter",
         "x": [
          0.06,
          0.07,
          0.08,
          0.09,
          0.1,
          0.11,
          0.12,
          0.13,
          0.14,
          0.15,
          0.16,
          0.17,
          0.18,
          0.19,
          0.2,
          0.21
         ],
         "y": [
          0.0184,
          0.0426,
          0.0827,
          0.1442,
          0.217,
          0.3012,
          0.3897,
          0.4757,
          0.5444,
          0.6117,
          0.6534,
          0.6773,
          0.7091,
          0.7182,
          0.7414,
          0.7437
         ]
        },
        {
         "mode": "lines+markers",
         "name": "N=512,K=257,l=128,n=10000,exact=0,RM,deg",
         "type": "scatter",
         "x": [
          0.06,
          0.07,
          0.08,
          0.09,
          0.1,
          0.11,
          0.12,
          0.13,
          0.14,
          0.15,
          0.16,
          0.17,
          0.18,
          0.19,
          0.2,
          0.21
         ],
         "y": [
          0.0165,
          0.0729,
          0.1822,
          0.3486,
          0.5246,
          0.6252,
          0.6969,
          0.7307,
          0.7389,
          0.7488,
          0.7472,
          0.7442,
          0.747,
          0.7468,
          0.7479,
          0.7511
         ]
        },
        {
         "mode": "lines+markers",
         "name": "N=512,K=257,l=128,n=10000,exact=0,RM,wt",
         "type": "scatter",
         "x": [
          0.06,
          0.07,
          0.08,
          0.09,
          0.1,
          0.11,
          0.12,
          0.13,
          0.14,
          0.15,
          0.16,
          0.17,
          0.18,
          0.19,
          0.2,
          0.21
         ],
         "y": [
          0.0151,
          0.0697,
          0.1791,
          0.3382,
          0.513,
          0.6116,
          0.6907,
          0.7246,
          0.7393,
          0.7471,
          0.7463,
          0.7429,
          0.7478,
          0.7456,
          0.7537,
          0.7496
         ]
        }
       ],
       "layout": {
        "template": {
         "data": {
          "bar": [
           {
            "error_x": {
             "color": "#2a3f5f"
            },
            "error_y": {
             "color": "#2a3f5f"
            },
            "marker": {
             "line": {
              "color": "#E5ECF6",
              "width": 0.5
             },
             "pattern": {
              "fillmode": "overlay",
              "size": 10,
              "solidity": 0.2
             }
            },
            "type": "bar"
           }
          ],
          "barpolar": [
           {
            "marker": {
             "line": {
              "color": "#E5ECF6",
              "width": 0.5
             },
             "pattern": {
              "fillmode": "overlay",
              "size": 10,
              "solidity": 0.2
             }
            },
            "type": "barpolar"
           }
          ],
          "carpet": [
           {
            "aaxis": {
             "endlinecolor": "#2a3f5f",
             "gridcolor": "white",
             "linecolor": "white",
             "minorgridcolor": "white",
             "startlinecolor": "#2a3f5f"
            },
            "baxis": {
             "endlinecolor": "#2a3f5f",
             "gridcolor": "white",
             "linecolor": "white",
             "minorgridcolor": "white",
             "startlinecolor": "#2a3f5f"
            },
            "type": "carpet"
           }
          ],
          "choropleth": [
           {
            "colorbar": {
             "outlinewidth": 0,
             "ticks": ""
            },
            "type": "choropleth"
           }
          ],
          "contour": [
           {
            "colorbar": {
             "outlinewidth": 0,
             "ticks": ""
            },
            "colorscale": [
             [
              0,
              "#0d0887"
             ],
             [
              0.1111111111111111,
              "#46039f"
             ],
             [
              0.2222222222222222,
              "#7201a8"
             ],
             [
              0.3333333333333333,
              "#9c179e"
             ],
             [
              0.4444444444444444,
              "#bd3786"
             ],
             [
              0.5555555555555556,
              "#d8576b"
             ],
             [
              0.6666666666666666,
              "#ed7953"
             ],
             [
              0.7777777777777778,
              "#fb9f3a"
             ],
             [
              0.8888888888888888,
              "#fdca26"
             ],
             [
              1,
              "#f0f921"
             ]
            ],
            "type": "contour"
           }
          ],
          "contourcarpet": [
           {
            "colorbar": {
             "outlinewidth": 0,
             "ticks": ""
            },
            "type": "contourcarpet"
           }
          ],
          "heatmap": [
           {
            "colorbar": {
             "outlinewidth": 0,
             "ticks": ""
            },
            "colorscale": [
             [
              0,
              "#0d0887"
             ],
             [
              0.1111111111111111,
              "#46039f"
             ],
             [
              0.2222222222222222,
              "#7201a8"
             ],
             [
              0.3333333333333333,
              "#9c179e"
             ],
             [
              0.4444444444444444,
              "#bd3786"
             ],
             [
              0.5555555555555556,
              "#d8576b"
             ],
             [
              0.6666666666666666,
              "#ed7953"
             ],
             [
              0.7777777777777778,
              "#fb9f3a"
             ],
             [
              0.8888888888888888,
              "#fdca26"
             ],
             [
              1,
              "#f0f921"
             ]
            ],
            "type": "heatmap"
           }
          ],
          "heatmapgl": [
           {
            "colorbar": {
             "outlinewidth": 0,
             "ticks": ""
            },
            "colorscale": [
             [
              0,
              "#0d0887"
             ],
             [
              0.1111111111111111,
              "#46039f"
             ],
             [
              0.2222222222222222,
              "#7201a8"
             ],
             [
              0.3333333333333333,
              "#9c179e"
             ],
             [
              0.4444444444444444,
              "#bd3786"
             ],
             [
              0.5555555555555556,
              "#d8576b"
             ],
             [
              0.6666666666666666,
              "#ed7953"
             ],
             [
              0.7777777777777778,
              "#fb9f3a"
             ],
             [
              0.8888888888888888,
              "#fdca26"
             ],
             [
              1,
              "#f0f921"
             ]
            ],
            "type": "heatmapgl"
           }
          ],
          "histogram": [
           {
            "marker": {
             "pattern": {
              "fillmode": "overlay",
              "size": 10,
              "solidity": 0.2
             }
            },
            "type": "histogram"
           }
          ],
          "histogram2d": [
           {
            "colorbar": {
             "outlinewidth": 0,
             "ticks": ""
            },
            "colorscale": [
             [
              0,
              "#0d0887"
             ],
             [
              0.1111111111111111,
              "#46039f"
             ],
             [
              0.2222222222222222,
              "#7201a8"
             ],
             [
              0.3333333333333333,
              "#9c179e"
             ],
             [
              0.4444444444444444,
              "#bd3786"
             ],
             [
              0.5555555555555556,
              "#d8576b"
             ],
             [
              0.6666666666666666,
              "#ed7953"
             ],
             [
              0.7777777777777778,
              "#fb9f3a"
             ],
             [
              0.8888888888888888,
              "#fdca26"
             ],
             [
              1,
              "#f0f921"
             ]
            ],
            "type": "histogram2d"
           }
          ],
          "histogram2dcontour": [
           {
            "colorbar": {
             "outlinewidth": 0,
             "ticks": ""
            },
            "colorscale": [
             [
              0,
              "#0d0887"
             ],
             [
              0.1111111111111111,
              "#46039f"
             ],
             [
              0.2222222222222222,
              "#7201a8"
             ],
             [
              0.3333333333333333,
              "#9c179e"
             ],
             [
              0.4444444444444444,
              "#bd3786"
             ],
             [
              0.5555555555555556,
              "#d8576b"
             ],
             [
              0.6666666666666666,
              "#ed7953"
             ],
             [
              0.7777777777777778,
              "#fb9f3a"
             ],
             [
              0.8888888888888888,
              "#fdca26"
             ],
             [
              1,
              "#f0f921"
             ]
            ],
            "type": "histogram2dcontour"
           }
          ],
          "mesh3d": [
           {
            "colorbar": {
             "outlinewidth": 0,
             "ticks": ""
            },
            "type": "mesh3d"
           }
          ],
          "parcoords": [
           {
            "line": {
             "colorbar": {
              "outlinewidth": 0,
              "ticks": ""
             }
            },
            "type": "parcoords"
           }
          ],
          "pie": [
           {
            "automargin": true,
            "type": "pie"
           }
          ],
          "scatter": [
           {
            "fillpattern": {
             "fillmode": "overlay",
             "size": 10,
             "solidity": 0.2
            },
            "type": "scatter"
           }
          ],
          "scatter3d": [
           {
            "line": {
             "colorbar": {
              "outlinewidth": 0,
              "ticks": ""
             }
            },
            "marker": {
             "colorbar": {
              "outlinewidth": 0,
              "ticks": ""
             }
            },
            "type": "scatter3d"
           }
          ],
          "scattercarpet": [
           {
            "marker": {
             "colorbar": {
              "outlinewidth": 0,
              "ticks": ""
             }
            },
            "type": "scattercarpet"
           }
          ],
          "scattergeo": [
           {
            "marker": {
             "colorbar": {
              "outlinewidth": 0,
              "ticks": ""
             }
            },
            "type": "scattergeo"
           }
          ],
          "scattergl": [
           {
            "marker": {
             "colorbar": {
              "outlinewidth": 0,
              "ticks": ""
             }
            },
            "type": "scattergl"
           }
          ],
          "scattermapbox": [
           {
            "marker": {
             "colorbar": {
              "outlinewidth": 0,
              "ticks": ""
             }
            },
            "type": "scattermapbox"
           }
          ],
          "scatterpolar": [
           {
            "marker": {
             "colorbar": {
              "outlinewidth": 0,
              "ticks": ""
             }
            },
            "type": "scatterpolar"
           }
          ],
          "scatterpolargl": [
           {
            "marker": {
             "colorbar": {
              "outlinewidth": 0,
              "ticks": ""
             }
            },
            "type": "scatterpolargl"
           }
          ],
          "scatterternary": [
           {
            "marker": {
             "colorbar": {
              "outlinewidth": 0,
              "ticks": ""
             }
            },
            "type": "scatterternary"
           }
          ],
          "surface": [
           {
            "colorbar": {
             "outlinewidth": 0,
             "ticks": ""
            },
            "colorscale": [
             [
              0,
              "#0d0887"
             ],
             [
              0.1111111111111111,
              "#46039f"
             ],
             [
              0.2222222222222222,
              "#7201a8"
             ],
             [
              0.3333333333333333,
              "#9c179e"
             ],
             [
              0.4444444444444444,
              "#bd3786"
             ],
             [
              0.5555555555555556,
              "#d8576b"
             ],
             [
              0.6666666666666666,
              "#ed7953"
             ],
             [
              0.7777777777777778,
              "#fb9f3a"
             ],
             [
              0.8888888888888888,
              "#fdca26"
             ],
             [
              1,
              "#f0f921"
             ]
            ],
            "type": "surface"
           }
          ],
          "table": [
           {
            "cells": {
             "fill": {
              "color": "#EBF0F8"
             },
             "line": {
              "color": "white"
             }
            },
            "header": {
             "fill": {
              "color": "#C8D4E3"
             },
             "line": {
              "color": "white"
             }
            },
            "type": "table"
           }
          ]
         },
         "layout": {
          "annotationdefaults": {
           "arrowcolor": "#2a3f5f",
           "arrowhead": 0,
           "arrowwidth": 1
          },
          "autotypenumbers": "strict",
          "coloraxis": {
           "colorbar": {
            "outlinewidth": 0,
            "ticks": ""
           }
          },
          "colorscale": {
           "diverging": [
            [
             0,
             "#8e0152"
            ],
            [
             0.1,
             "#c51b7d"
            ],
            [
             0.2,
             "#de77ae"
            ],
            [
             0.3,
             "#f1b6da"
            ],
            [
             0.4,
             "#fde0ef"
            ],
            [
             0.5,
             "#f7f7f7"
            ],
            [
             0.6,
             "#e6f5d0"
            ],
            [
             0.7,
             "#b8e186"
            ],
            [
             0.8,
             "#7fbc41"
            ],
            [
             0.9,
             "#4d9221"
            ],
            [
             1,
             "#276419"
            ]
           ],
           "sequential": [
            [
             0,
             "#0d0887"
            ],
            [
             0.1111111111111111,
             "#46039f"
            ],
            [
             0.2222222222222222,
             "#7201a8"
            ],
            [
             0.3333333333333333,
             "#9c179e"
            ],
            [
             0.4444444444444444,
             "#bd3786"
            ],
            [
             0.5555555555555556,
             "#d8576b"
            ],
            [
             0.6666666666666666,
             "#ed7953"
            ],
            [
             0.7777777777777778,
             "#fb9f3a"
            ],
            [
             0.8888888888888888,
             "#fdca26"
            ],
            [
             1,
             "#f0f921"
            ]
           ],
           "sequentialminus": [
            [
             0,
             "#0d0887"
            ],
            [
             0.1111111111111111,
             "#46039f"
            ],
            [
             0.2222222222222222,
             "#7201a8"
            ],
            [
             0.3333333333333333,
             "#9c179e"
            ],
            [
             0.4444444444444444,
             "#bd3786"
            ],
            [
             0.5555555555555556,
             "#d8576b"
            ],
            [
             0.6666666666666666,
             "#ed7953"
            ],
            [
             0.7777777777777778,
             "#fb9f3a"
            ],
            [
             0.8888888888888888,
             "#fdca26"
            ],
            [
             1,
             "#f0f921"
            ]
           ]
          },
          "colorway": [
           "#636efa",
           "#EF553B",
           "#00cc96",
           "#ab63fa",
           "#FFA15A",
           "#19d3f3",
           "#FF6692",
           "#B6E880",
           "#FF97FF",
           "#FECB52"
          ],
          "font": {
           "color": "#2a3f5f"
          },
          "geo": {
           "bgcolor": "white",
           "lakecolor": "white",
           "landcolor": "#E5ECF6",
           "showlakes": true,
           "showland": true,
           "subunitcolor": "white"
          },
          "hoverlabel": {
           "align": "left"
          },
          "hovermode": "closest",
          "mapbox": {
           "style": "light"
          },
          "paper_bgcolor": "white",
          "plot_bgcolor": "#E5ECF6",
          "polar": {
           "angularaxis": {
            "gridcolor": "white",
            "linecolor": "white",
            "ticks": ""
           },
           "bgcolor": "#E5ECF6",
           "radialaxis": {
            "gridcolor": "white",
            "linecolor": "white",
            "ticks": ""
           }
          },
          "scene": {
           "xaxis": {
            "backgroundcolor": "#E5ECF6",
            "gridcolor": "white",
            "gridwidth": 2,
            "linecolor": "white",
            "showbackground": true,
            "ticks": "",
            "zerolinecolor": "white"
           },
           "yaxis": {
            "backgroundcolor": "#E5ECF6",
            "gridcolor": "white",
            "gridwidth": 2,
            "linecolor": "white",
            "showbackground": true,
            "ticks": "",
            "zerolinecolor": "white"
           },
           "zaxis": {
            "backgroundcolor": "#E5ECF6",
            "gridcolor": "white",
            "gridwidth": 2,
            "linecolor": "white",
            "showbackground": true,
            "ticks": "",
            "zerolinecolor": "white"
           }
          },
          "shapedefaults": {
           "line": {
            "color": "#2a3f5f"
           }
          },
          "ternary": {
           "aaxis": {
            "gridcolor": "white",
            "linecolor": "white",
            "ticks": ""
           },
           "baxis": {
            "gridcolor": "white",
            "linecolor": "white",
            "ticks": ""
           },
           "bgcolor": "#E5ECF6",
           "caxis": {
            "gridcolor": "white",
            "linecolor": "white",
            "ticks": ""
           }
          },
          "title": {
           "x": 0.05
          },
          "xaxis": {
           "automargin": true,
           "gridcolor": "white",
           "linecolor": "white",
           "ticks": "",
           "title": {
            "standoff": 15
           },
           "zerolinecolor": "white",
           "zerolinewidth": 2
          },
          "yaxis": {
           "automargin": true,
           "gridcolor": "white",
           "linecolor": "white",
           "ticks": "",
           "title": {
            "standoff": 15
           },
           "zerolinecolor": "white",
           "zerolinewidth": 2
          }
         }
        }
       }
      },
      "text/html": [
       "<div>                            <div id=\"efea5120-33c5-4802-865a-bc38a98c5f32\" class=\"plotly-graph-div\" style=\"height:525px; width:100%;\"></div>            <script type=\"text/javascript\">                require([\"plotly\"], function(Plotly) {                    window.PLOTLYENV=window.PLOTLYENV || {};                                    if (document.getElementById(\"efea5120-33c5-4802-865a-bc38a98c5f32\")) {                    Plotly.newPlot(                        \"efea5120-33c5-4802-865a-bc38a98c5f32\",                        [{\"mode\":\"lines+markers\",\"name\":\"N=1024,K=513,l=128,n=10000,exact=0,RM,deg\",\"x\":[0.06,0.07,0.08,0.09,0.1,0.11,0.12,0.13,0.14,0.15,0.16,0.17,0.18,0.19,0.2,0.21],\"y\":[0.0403,0.1416,0.2871,0.4357,0.5369,0.6235,0.6881,0.7286,0.7533,0.7429,0.7493,0.7425,0.7486,0.7479,0.7528,0.7527],\"type\":\"scatter\"},{\"mode\":\"lines+markers\",\"name\":\"N=1024,K=513,l=128,n=10000,exact=0,RM,wt\",\"x\":[0.06,0.07,0.08,0.09,0.1,0.11,0.12,0.13,0.14,0.15,0.16,0.17,0.18,0.19,0.2,0.21],\"y\":[0.0399,0.1409,0.2858,0.4362,0.5386,0.6183,0.6903,0.7309,0.755,0.7477,0.7455,0.7453,0.7472,0.7498,0.7524,0.7517],\"type\":\"scatter\"},{\"mode\":\"lines+markers\",\"name\":\"N=256,K=129,l=128,n=10000,exact=0,RM,deg\",\"x\":[0.06,0.07,0.08,0.09,0.1,0.11,0.12,0.13,0.14,0.15,0.16,0.17,0.18,0.19,0.2,0.21],\"y\":[0.0225,0.0558,0.1132,0.1907,0.2859,0.3874,0.4646,0.5393,0.5984,0.6441,0.6757,0.6983,0.7283,0.7377,0.7459,0.7492],\"type\":\"scatter\"},{\"mode\":\"lines+markers\",\"name\":\"N=256,K=129,l=128,n=10000,exact=0,RM,wt\",\"x\":[0.06,0.07,0.08,0.09,0.1,0.11,0.12,0.13,0.14,0.15,0.16,0.17,0.18,0.19,0.2,0.21],\"y\":[0.0204,0.0515,0.1024,0.1772,0.269,0.3699,0.4536,0.53,0.5905,0.6342,0.6666,0.7047,0.7264,0.7375,0.7473,0.7458],\"type\":\"scatter\"},{\"mode\":\"lines+markers\",\"name\":\"N=64,K=33,l=128,n=10000,exact=0,RM,deg\",\"x\":[0.06,0.07,0.08,0.09,0.1,0.11,0.12,0.13,0.14,0.15,0.16,0.17,0.18,0.19,0.2,0.21],\"y\":[0.0797,0.1261,0.1785,0.233,0.2952,0.3553,0.4105,0.4615,0.5057,0.5531,0.5851,0.6137,0.6506,0.6674,0.6928,0.7037],\"type\":\"scatter\"},{\"mode\":\"lines+markers\",\"name\":\"N=64,K=33,l=128,n=10000,exact=0,RM,wt\",\"x\":[0.06,0.07,0.08,0.09,0.1,0.11,0.12,0.13,0.14,0.15,0.16,0.17,0.18,0.19,0.2,0.21],\"y\":[0.078,0.1242,0.1694,0.2245,0.2879,0.3455,0.3982,0.454,0.4981,0.5412,0.5754,0.6109,0.6397,0.6587,0.677,0.701],\"type\":\"scatter\"},{\"mode\":\"lines+markers\",\"name\":\"N=128,K=65,l=128,n=10000,exact=0,RM,deg\",\"x\":[0.06,0.07,0.08,0.09,0.1,0.11,0.12,0.13,0.14,0.15,0.16,0.17,0.18,0.19,0.2,0.21],\"y\":[0.0194,0.0464,0.0928,0.1559,0.2404,0.3172,0.4119,0.5069,0.5665,0.6193,0.6742,0.684,0.7206,0.7225,0.7427,0.7498],\"type\":\"scatter\"},{\"mode\":\"lines+markers\",\"name\":\"N=128,K=65,l=128,n=10000,exact=0,RM,wt\",\"x\":[0.06,0.07,0.08,0.09,0.1,0.11,0.12,0.13,0.14,0.15,0.16,0.17,0.18,0.19,0.2,0.21],\"y\":[0.0184,0.0426,0.0827,0.1442,0.217,0.3012,0.3897,0.4757,0.5444,0.6117,0.6534,0.6773,0.7091,0.7182,0.7414,0.7437],\"type\":\"scatter\"},{\"mode\":\"lines+markers\",\"name\":\"N=512,K=257,l=128,n=10000,exact=0,RM,deg\",\"x\":[0.06,0.07,0.08,0.09,0.1,0.11,0.12,0.13,0.14,0.15,0.16,0.17,0.18,0.19,0.2,0.21],\"y\":[0.0165,0.0729,0.1822,0.3486,0.5246,0.6252,0.6969,0.7307,0.7389,0.7488,0.7472,0.7442,0.747,0.7468,0.7479,0.7511],\"type\":\"scatter\"},{\"mode\":\"lines+markers\",\"name\":\"N=512,K=257,l=128,n=10000,exact=0,RM,wt\",\"x\":[0.06,0.07,0.08,0.09,0.1,0.11,0.12,0.13,0.14,0.15,0.16,0.17,0.18,0.19,0.2,0.21],\"y\":[0.0151,0.0697,0.1791,0.3382,0.513,0.6116,0.6907,0.7246,0.7393,0.7471,0.7463,0.7429,0.7478,0.7456,0.7537,0.7496],\"type\":\"scatter\"}],                        {\"template\":{\"data\":{\"histogram2dcontour\":[{\"type\":\"histogram2dcontour\",\"colorbar\":{\"outlinewidth\":0,\"ticks\":\"\"},\"colorscale\":[[0.0,\"#0d0887\"],[0.1111111111111111,\"#46039f\"],[0.2222222222222222,\"#7201a8\"],[0.3333333333333333,\"#9c179e\"],[0.4444444444444444,\"#bd3786\"],[0.5555555555555556,\"#d8576b\"],[0.6666666666666666,\"#ed7953\"],[0.7777777777777778,\"#fb9f3a\"],[0.8888888888888888,\"#fdca26\"],[1.0,\"#f0f921\"]]}],\"choropleth\":[{\"type\":\"choropleth\",\"colorbar\":{\"outlinewidth\":0,\"ticks\":\"\"}}],\"histogram2d\":[{\"type\":\"histogram2d\",\"colorbar\":{\"outlinewidth\":0,\"ticks\":\"\"},\"colorscale\":[[0.0,\"#0d0887\"],[0.1111111111111111,\"#46039f\"],[0.2222222222222222,\"#7201a8\"],[0.3333333333333333,\"#9c179e\"],[0.4444444444444444,\"#bd3786\"],[0.5555555555555556,\"#d8576b\"],[0.6666666666666666,\"#ed7953\"],[0.7777777777777778,\"#fb9f3a\"],[0.8888888888888888,\"#fdca26\"],[1.0,\"#f0f921\"]]}],\"heatmap\":[{\"type\":\"heatmap\",\"colorbar\":{\"outlinewidth\":0,\"ticks\":\"\"},\"colorscale\":[[0.0,\"#0d0887\"],[0.1111111111111111,\"#46039f\"],[0.2222222222222222,\"#7201a8\"],[0.3333333333333333,\"#9c179e\"],[0.4444444444444444,\"#bd3786\"],[0.5555555555555556,\"#d8576b\"],[0.6666666666666666,\"#ed7953\"],[0.7777777777777778,\"#fb9f3a\"],[0.8888888888888888,\"#fdca26\"],[1.0,\"#f0f921\"]]}],\"heatmapgl\":[{\"type\":\"heatmapgl\",\"colorbar\":{\"outlinewidth\":0,\"ticks\":\"\"},\"colorscale\":[[0.0,\"#0d0887\"],[0.1111111111111111,\"#46039f\"],[0.2222222222222222,\"#7201a8\"],[0.3333333333333333,\"#9c179e\"],[0.4444444444444444,\"#bd3786\"],[0.5555555555555556,\"#d8576b\"],[0.6666666666666666,\"#ed7953\"],[0.7777777777777778,\"#fb9f3a\"],[0.8888888888888888,\"#fdca26\"],[1.0,\"#f0f921\"]]}],\"contourcarpet\":[{\"type\":\"contourcarpet\",\"colorbar\":{\"outlinewidth\":0,\"ticks\":\"\"}}],\"contour\":[{\"type\":\"contour\",\"colorbar\":{\"outlinewidth\":0,\"ticks\":\"\"},\"colorscale\":[[0.0,\"#0d0887\"],[0.1111111111111111,\"#46039f\"],[0.2222222222222222,\"#7201a8\"],[0.3333333333333333,\"#9c179e\"],[0.4444444444444444,\"#bd3786\"],[0.5555555555555556,\"#d8576b\"],[0.6666666666666666,\"#ed7953\"],[0.7777777777777778,\"#fb9f3a\"],[0.8888888888888888,\"#fdca26\"],[1.0,\"#f0f921\"]]}],\"surface\":[{\"type\":\"surface\",\"colorbar\":{\"outlinewidth\":0,\"ticks\":\"\"},\"colorscale\":[[0.0,\"#0d0887\"],[0.1111111111111111,\"#46039f\"],[0.2222222222222222,\"#7201a8\"],[0.3333333333333333,\"#9c179e\"],[0.4444444444444444,\"#bd3786\"],[0.5555555555555556,\"#d8576b\"],[0.6666666666666666,\"#ed7953\"],[0.7777777777777778,\"#fb9f3a\"],[0.8888888888888888,\"#fdca26\"],[1.0,\"#f0f921\"]]}],\"mesh3d\":[{\"type\":\"mesh3d\",\"colorbar\":{\"outlinewidth\":0,\"ticks\":\"\"}}],\"scatter\":[{\"fillpattern\":{\"fillmode\":\"overlay\",\"size\":10,\"solidity\":0.2},\"type\":\"scatter\"}],\"parcoords\":[{\"type\":\"parcoords\",\"line\":{\"colorbar\":{\"outlinewidth\":0,\"ticks\":\"\"}}}],\"scatterpolargl\":[{\"type\":\"scatterpolargl\",\"marker\":{\"colorbar\":{\"outlinewidth\":0,\"ticks\":\"\"}}}],\"bar\":[{\"error_x\":{\"color\":\"#2a3f5f\"},\"error_y\":{\"color\":\"#2a3f5f\"},\"marker\":{\"line\":{\"color\":\"#E5ECF6\",\"width\":0.5},\"pattern\":{\"fillmode\":\"overlay\",\"size\":10,\"solidity\":0.2}},\"type\":\"bar\"}],\"scattergeo\":[{\"type\":\"scattergeo\",\"marker\":{\"colorbar\":{\"outlinewidth\":0,\"ticks\":\"\"}}}],\"scatterpolar\":[{\"type\":\"scatterpolar\",\"marker\":{\"colorbar\":{\"outlinewidth\":0,\"ticks\":\"\"}}}],\"histogram\":[{\"marker\":{\"pattern\":{\"fillmode\":\"overlay\",\"size\":10,\"solidity\":0.2}},\"type\":\"histogram\"}],\"scattergl\":[{\"type\":\"scattergl\",\"marker\":{\"colorbar\":{\"outlinewidth\":0,\"ticks\":\"\"}}}],\"scatter3d\":[{\"type\":\"scatter3d\",\"line\":{\"colorbar\":{\"outlinewidth\":0,\"ticks\":\"\"}},\"marker\":{\"colorbar\":{\"outlinewidth\":0,\"ticks\":\"\"}}}],\"scattermapbox\":[{\"type\":\"scattermapbox\",\"marker\":{\"colorbar\":{\"outlinewidth\":0,\"ticks\":\"\"}}}],\"scatterternary\":[{\"type\":\"scatterternary\",\"marker\":{\"colorbar\":{\"outlinewidth\":0,\"ticks\":\"\"}}}],\"scattercarpet\":[{\"type\":\"scattercarpet\",\"marker\":{\"colorbar\":{\"outlinewidth\":0,\"ticks\":\"\"}}}],\"carpet\":[{\"aaxis\":{\"endlinecolor\":\"#2a3f5f\",\"gridcolor\":\"white\",\"linecolor\":\"white\",\"minorgridcolor\":\"white\",\"startlinecolor\":\"#2a3f5f\"},\"baxis\":{\"endlinecolor\":\"#2a3f5f\",\"gridcolor\":\"white\",\"linecolor\":\"white\",\"minorgridcolor\":\"white\",\"startlinecolor\":\"#2a3f5f\"},\"type\":\"carpet\"}],\"table\":[{\"cells\":{\"fill\":{\"color\":\"#EBF0F8\"},\"line\":{\"color\":\"white\"}},\"header\":{\"fill\":{\"color\":\"#C8D4E3\"},\"line\":{\"color\":\"white\"}},\"type\":\"table\"}],\"barpolar\":[{\"marker\":{\"line\":{\"color\":\"#E5ECF6\",\"width\":0.5},\"pattern\":{\"fillmode\":\"overlay\",\"size\":10,\"solidity\":0.2}},\"type\":\"barpolar\"}],\"pie\":[{\"automargin\":true,\"type\":\"pie\"}]},\"layout\":{\"autotypenumbers\":\"strict\",\"colorway\":[\"#636efa\",\"#EF553B\",\"#00cc96\",\"#ab63fa\",\"#FFA15A\",\"#19d3f3\",\"#FF6692\",\"#B6E880\",\"#FF97FF\",\"#FECB52\"],\"font\":{\"color\":\"#2a3f5f\"},\"hovermode\":\"closest\",\"hoverlabel\":{\"align\":\"left\"},\"paper_bgcolor\":\"white\",\"plot_bgcolor\":\"#E5ECF6\",\"polar\":{\"bgcolor\":\"#E5ECF6\",\"angularaxis\":{\"gridcolor\":\"white\",\"linecolor\":\"white\",\"ticks\":\"\"},\"radialaxis\":{\"gridcolor\":\"white\",\"linecolor\":\"white\",\"ticks\":\"\"}},\"ternary\":{\"bgcolor\":\"#E5ECF6\",\"aaxis\":{\"gridcolor\":\"white\",\"linecolor\":\"white\",\"ticks\":\"\"},\"baxis\":{\"gridcolor\":\"white\",\"linecolor\":\"white\",\"ticks\":\"\"},\"caxis\":{\"gridcolor\":\"white\",\"linecolor\":\"white\",\"ticks\":\"\"}},\"coloraxis\":{\"colorbar\":{\"outlinewidth\":0,\"ticks\":\"\"}},\"colorscale\":{\"sequential\":[[0.0,\"#0d0887\"],[0.1111111111111111,\"#46039f\"],[0.2222222222222222,\"#7201a8\"],[0.3333333333333333,\"#9c179e\"],[0.4444444444444444,\"#bd3786\"],[0.5555555555555556,\"#d8576b\"],[0.6666666666666666,\"#ed7953\"],[0.7777777777777778,\"#fb9f3a\"],[0.8888888888888888,\"#fdca26\"],[1.0,\"#f0f921\"]],\"sequentialminus\":[[0.0,\"#0d0887\"],[0.1111111111111111,\"#46039f\"],[0.2222222222222222,\"#7201a8\"],[0.3333333333333333,\"#9c179e\"],[0.4444444444444444,\"#bd3786\"],[0.5555555555555556,\"#d8576b\"],[0.6666666666666666,\"#ed7953\"],[0.7777777777777778,\"#fb9f3a\"],[0.8888888888888888,\"#fdca26\"],[1.0,\"#f0f921\"]],\"diverging\":[[0,\"#8e0152\"],[0.1,\"#c51b7d\"],[0.2,\"#de77ae\"],[0.3,\"#f1b6da\"],[0.4,\"#fde0ef\"],[0.5,\"#f7f7f7\"],[0.6,\"#e6f5d0\"],[0.7,\"#b8e186\"],[0.8,\"#7fbc41\"],[0.9,\"#4d9221\"],[1,\"#276419\"]]},\"xaxis\":{\"gridcolor\":\"white\",\"linecolor\":\"white\",\"ticks\":\"\",\"title\":{\"standoff\":15},\"zerolinecolor\":\"white\",\"automargin\":true,\"zerolinewidth\":2},\"yaxis\":{\"gridcolor\":\"white\",\"linecolor\":\"white\",\"ticks\":\"\",\"title\":{\"standoff\":15},\"zerolinecolor\":\"white\",\"automargin\":true,\"zerolinewidth\":2},\"scene\":{\"xaxis\":{\"backgroundcolor\":\"#E5ECF6\",\"gridcolor\":\"white\",\"linecolor\":\"white\",\"showbackground\":true,\"ticks\":\"\",\"zerolinecolor\":\"white\",\"gridwidth\":2},\"yaxis\":{\"backgroundcolor\":\"#E5ECF6\",\"gridcolor\":\"white\",\"linecolor\":\"white\",\"showbackground\":true,\"ticks\":\"\",\"zerolinecolor\":\"white\",\"gridwidth\":2},\"zaxis\":{\"backgroundcolor\":\"#E5ECF6\",\"gridcolor\":\"white\",\"linecolor\":\"white\",\"showbackground\":true,\"ticks\":\"\",\"zerolinecolor\":\"white\",\"gridwidth\":2}},\"shapedefaults\":{\"line\":{\"color\":\"#2a3f5f\"}},\"annotationdefaults\":{\"arrowcolor\":\"#2a3f5f\",\"arrowhead\":0,\"arrowwidth\":1},\"geo\":{\"bgcolor\":\"white\",\"landcolor\":\"#E5ECF6\",\"subunitcolor\":\"white\",\"showland\":true,\"showlakes\":true,\"lakecolor\":\"white\"},\"title\":{\"x\":0.05},\"mapbox\":{\"style\":\"light\"}}}},                        {\"responsive\": true}                    ).then(function(){\n",
       "                            \n",
       "var gd = document.getElementById('efea5120-33c5-4802-865a-bc38a98c5f32');\n",
       "var x = new MutationObserver(function (mutations, observer) {{\n",
       "        var display = window.getComputedStyle(gd).display;\n",
       "        if (!display || display === 'none') {{\n",
       "            console.log([gd, 'removed!']);\n",
       "            Plotly.purge(gd);\n",
       "            observer.disconnect();\n",
       "        }}\n",
       "}});\n",
       "\n",
       "// Listen for the removal of the full notebook cells\n",
       "var notebookContainer = gd.closest('#notebook-container');\n",
       "if (notebookContainer) {{\n",
       "    x.observe(notebookContainer, {childList: true});\n",
       "}}\n",
       "\n",
       "// Listen for the clearing of the current output cell\n",
       "var outputEl = gd.closest('.output');\n",
       "if (outputEl) {{\n",
       "    x.observe(outputEl, {childList: true});\n",
       "}}\n",
       "\n",
       "                        })                };                });            </script>        </div>"
      ]
     },
     "metadata": {},
     "output_type": "display_data"
    }
   ],
   "source": [
    "fig = go.Figure()\n",
    "\n",
    "for x,y in data_dict.items():\n",
    "    if ('PW' in x):\n",
    "        continue\n",
    "    fig.add_trace(go.Scatter(x=y[0], y=y[1], mode='lines+markers', name=x))\n",
    "\n",
    "fig.show()"
   ]
  }
 ],
 "metadata": {
  "kernelspec": {
   "display_name": "Python 3.8.15 ('pai-task3')",
   "language": "python",
   "name": "python3"
  },
  "language_info": {
   "codemirror_mode": {
    "name": "ipython",
    "version": 3
   },
   "file_extension": ".py",
   "mimetype": "text/x-python",
   "name": "python",
   "nbconvert_exporter": "python",
   "pygments_lexer": "ipython3",
   "version": "3.8.15"
  },
  "vscode": {
   "interpreter": {
    "hash": "b7773c28838dc32d46bb489f3ed269db5de6b525b3f9c4277ea3e0b01a1b598f"
   }
  }
 },
 "nbformat": 4,
 "nbformat_minor": 5
}

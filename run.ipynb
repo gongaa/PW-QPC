{
 "cells": [
  {
   "cell_type": "code",
   "execution_count": 56,
   "id": "1472aa7b",
   "metadata": {},
   "outputs": [],
   "source": [
    "import os\n",
    "import re\n",
    "import subprocess\n",
    "from pathlib import Path\n",
    "import numpy as np\n",
    "import command"
   ]
  },
  {
   "cell_type": "code",
   "execution_count": 84,
   "id": "fbe95f88",
   "metadata": {},
   "outputs": [
    {
     "name": "stdout",
     "output_type": "stream",
     "text": [
      "Enter N:64\n",
      "Enter K:33\n",
      "Enter list size:4\n",
      "Enter a range of pz, pz_min: 0.05\n",
      "Enter a range of pz, pz_max: 0.19\n",
      "Enter random seed:42\n",
      "Enter number of samples: 1000\n",
      "Enter construction method (PW, HPW, RM): PW\n",
      "Enter exact interval (0 to not use exact): 0\n",
      "Running on Euler? 'y' or 'n': y\n",
      "Enter runtime: 48\n"
     ]
    }
   ],
   "source": [
    "N = input('Enter N:')\n",
    "K = input('Enter K:')\n",
    "l = input('Enter list size:')\n",
    "pz_min = input('Enter a range of pz, pz_min: ')\n",
    "pz_max = input('Enter a range of pz, pz_max (not inclusive): ')\n",
    "s = input('Enter random seed:')\n",
    "n = input('Enter number of samples: ')\n",
    "while True:\n",
    "    con = input('Enter construction method (PW, HPW, RM): ')\n",
    "    if con in ['PW', 'HPW', 'RM']:\n",
    "        break\n",
    "exact = input(\"Enter exact interval (0 to not use exact): \")\n",
    "euler = input(\"Running on Euler? 'y' or 'n': \") == 'y'\n",
    "if euler:\n",
    "    runtime = input(\"Enter runtime: \")"
   ]
  },
  {
   "cell_type": "code",
   "execution_count": 47,
   "id": "61965fc7",
   "metadata": {},
   "outputs": [],
   "source": [
    "path = 'logs'\n",
    "if not os.path.exists(path):    \n",
    "    try:\n",
    "        os.mkdir(path)\n",
    "    except OSError as error:\n",
    "        print(error)    "
   ]
  },
  {
   "cell_type": "code",
   "execution_count": 48,
   "id": "2b0d2bd9",
   "metadata": {},
   "outputs": [],
   "source": [
    "dir = 'N'+N+'_K'+K+'_l'+l+'_s'+s+'_n'+n+'_exact'+exact+'_'+con\n",
    "try:\n",
    "    os.mkdir(path+'/'+dir)\n",
    "except OSError as error:\n",
    "    print(error)  "
   ]
  },
  {
   "cell_type": "code",
   "execution_count": 49,
   "id": "a2e36552",
   "metadata": {},
   "outputs": [
    {
     "name": "stdout",
     "output_type": "stream",
     "text": [
      "Your results will be saved under the directory logs/N64_K33_l4_s42_n1000_exact0_PW\n"
     ]
    }
   ],
   "source": [
    "print(\"Your results will be saved under the directory logs/\" + dir)"
   ]
  },
  {
   "cell_type": "code",
   "execution_count": 86,
   "id": "7b7c8597",
   "metadata": {},
   "outputs": [
    {
     "name": "stdout",
     "output_type": "stream",
     "text": [
      "bsub -W 48:00 \"./build/apps/program -N 64 -K 33 -l 4 -seed 42 -n 1000 -exact 0 -con PW -pz 0.05\"\n",
      "bsub -W 48:00 \"./build/apps/program -N 64 -K 33 -l 4 -seed 42 -n 1000 -exact 0 -con PW -pz 0.060000000000000005\"\n",
      "bsub -W 48:00 \"./build/apps/program -N 64 -K 33 -l 4 -seed 42 -n 1000 -exact 0 -con PW -pz 0.07\"\n",
      "bsub -W 48:00 \"./build/apps/program -N 64 -K 33 -l 4 -seed 42 -n 1000 -exact 0 -con PW -pz 0.08000000000000002\"\n",
      "bsub -W 48:00 \"./build/apps/program -N 64 -K 33 -l 4 -seed 42 -n 1000 -exact 0 -con PW -pz 0.09000000000000001\"\n",
      "bsub -W 48:00 \"./build/apps/program -N 64 -K 33 -l 4 -seed 42 -n 1000 -exact 0 -con PW -pz 0.1\"\n",
      "bsub -W 48:00 \"./build/apps/program -N 64 -K 33 -l 4 -seed 42 -n 1000 -exact 0 -con PW -pz 0.11000000000000001\"\n",
      "bsub -W 48:00 \"./build/apps/program -N 64 -K 33 -l 4 -seed 42 -n 1000 -exact 0 -con PW -pz 0.12000000000000001\"\n",
      "bsub -W 48:00 \"./build/apps/program -N 64 -K 33 -l 4 -seed 42 -n 1000 -exact 0 -con PW -pz 0.13\"\n",
      "bsub -W 48:00 \"./build/apps/program -N 64 -K 33 -l 4 -seed 42 -n 1000 -exact 0 -con PW -pz 0.14\"\n",
      "bsub -W 48:00 \"./build/apps/program -N 64 -K 33 -l 4 -seed 42 -n 1000 -exact 0 -con PW -pz 0.15000000000000002\"\n",
      "bsub -W 48:00 \"./build/apps/program -N 64 -K 33 -l 4 -seed 42 -n 1000 -exact 0 -con PW -pz 0.16000000000000003\"\n",
      "bsub -W 48:00 \"./build/apps/program -N 64 -K 33 -l 4 -seed 42 -n 1000 -exact 0 -con PW -pz 0.17000000000000004\"\n",
      "bsub -W 48:00 \"./build/apps/program -N 64 -K 33 -l 4 -seed 42 -n 1000 -exact 0 -con PW -pz 0.18000000000000005\"\n",
      "bsub -W 48:00 \"./build/apps/program -N 64 -K 33 -l 4 -seed 42 -n 1000 -exact 0 -con PW -pz 0.19\"\n"
     ]
    }
   ],
   "source": [
    "for pz in np.arange(float(pz_min), float(pz_max), 0.01):\n",
    "    cmd = \"./build/apps/program -N \"+N+\" -K \"+K+\" -l \"+l+\" -seed \"+s+\" -n \"+n+\" -exact \"+exact+ \" -con \"+con+\" -pz \"+str(pz)\n",
    "    if euler:\n",
    "        cmd = 'bsub -W ' + runtime + ':00 \"'+ cmd + '\"'\n",
    "    dest = \"logs/\" + dir + \"/pz\" + str(int(pz*100)) + \".log\"\n",
    "#     process = subprocess.Popen(cmd.split(), stderr=open(dest, 'w'))\n",
    "    print(cmd)"
   ]
  }
 ],
 "metadata": {
  "kernelspec": {
   "display_name": "Python 3 (ipykernel)",
   "language": "python",
   "name": "python3"
  },
  "language_info": {
   "codemirror_mode": {
    "name": "ipython",
    "version": 3
   },
   "file_extension": ".py",
   "mimetype": "text/x-python",
   "name": "python",
   "nbconvert_exporter": "python",
   "pygments_lexer": "ipython3",
   "version": "3.9.12"
  }
 },
 "nbformat": 4,
 "nbformat_minor": 5
}

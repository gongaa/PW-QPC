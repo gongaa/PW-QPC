{
 "cells": [
  {
   "cell_type": "code",
   "execution_count": 1,
   "id": "1472aa7b",
   "metadata": {},
   "outputs": [],
   "source": [
    "import os\n",
    "import re\n",
    "import subprocess\n",
    "from pathlib import Path\n",
    "import numpy as np\n",
    "import command"
   ]
  },
  {
   "cell_type": "code",
   "execution_count": 18,
   "id": "fbe95f88",
   "metadata": {},
   "outputs": [],
   "source": [
    "N = input('Enter N:')\n",
    "K = input('Enter K:')\n",
    "l = input('Enter list size:')\n",
    "pz_min = input('Enter a range of pz, pz_min: ')\n",
    "pz_max = input('Enter a range of pz, pz_max (not inclusive): ')\n",
    "s = input('Enter random seed:')\n",
    "n = input('Enter number of samples: ')\n",
    "while True:\n",
    "    con = input('Enter construction method (PW, HPW, RM): ')\n",
    "    if con in ['PW', 'HPW', 'RM']:\n",
    "        break\n",
    "exact = input(\"Enter exact interval (0 to not use exact): \")\n",
    "euler = input(\"Running on Euler? 'y' or 'n': \") == 'y'\n",
    "if euler:\n",
    "    runtime = input(\"Enter runtime: \")"
   ]
  },
  {
   "cell_type": "code",
   "execution_count": 19,
   "id": "61965fc7",
   "metadata": {},
   "outputs": [],
   "source": [
    "path = 'logs'\n",
    "if not os.path.exists(path):    \n",
    "    try:\n",
    "        os.mkdir(path)\n",
    "    except OSError as error:\n",
    "        print(error)    "
   ]
  },
  {
   "cell_type": "code",
   "execution_count": 20,
   "id": "2b0d2bd9",
   "metadata": {},
   "outputs": [],
   "source": [
    "dir = 'N'+N+'_K'+K+'_l'+l+'_s'+s+'_n'+n+'_exact'+exact+'_'+con\n",
    "try:\n",
    "    os.mkdir(path+'/'+dir)\n",
    "except OSError as error:\n",
    "    print(error)  "
   ]
  },
  {
   "cell_type": "code",
   "execution_count": 21,
   "id": "a2e36552",
   "metadata": {},
   "outputs": [
    {
     "name": "stdout",
     "output_type": "stream",
     "text": [
      "Your results will be saved under the directory logs/N512_K257_l128_s83_n10000_exact0_PW\n"
     ]
    }
   ],
   "source": [
    "print(\"Your results will be saved under the directory logs/\" + dir)"
   ]
  },
  {
   "cell_type": "code",
   "execution_count": 22,
   "id": "7b7c8597",
   "metadata": {},
   "outputs": [
    {
     "name": "stderr",
     "output_type": "stream",
     "text": [
      "Generic job.\n",
      "Generic job.\n",
      "Generic job.\n",
      "Generic job.\n",
      "Generic job.\n",
      "Generic job.\n",
      "Generic job.\n",
      "Generic job.\n",
      "Generic job.\n",
      "Generic job.\n",
      "Generic job.\n",
      "Generic job.\n",
      "Generic job.\n",
      "Generic job.\n",
      "Generic job.\n",
      "Generic job.\n"
     ]
    },
    {
     "name": "stdout",
     "output_type": "stream",
     "text": [
      "Job <251158921> is submitted to queue <normal.24h>.\n",
      "Job <251158922> is submitted to queue <normal.24h>.\n",
      "Job <251158923> is submitted to queue <normal.24h>.\n",
      "Job <251158924> is submitted to queue <normal.24h>.\n",
      "Job <251158925> is submitted to queue <normal.24h>.\n",
      "Job <251158926> is submitted to queue <normal.24h>.\n",
      "Job <251158927> is submitted to queue <normal.24h>.\n",
      "Job <251158928> is submitted to queue <normal.24h>.\n",
      "Job <251158929> is submitted to queue <normal.24h>.\n",
      "Job <251158930> is submitted to queue <normal.24h>.\n",
      "Job <251158931> is submitted to queue <normal.24h>.\n",
      "Job <251158932> is submitted to queue <normal.24h>.\n",
      "Job <251158933> is submitted to queue <normal.24h>.\n",
      "Job <251158934> is submitted to queue <normal.24h>.\n",
      "Job <251158935> is submitted to queue <normal.24h>.\n",
      "Job <251158936> is submitted to queue <normal.24h>.\n"
     ]
    }
   ],
   "source": [
    "for pz in np.arange(float(pz_min), float(pz_max), 0.01):\n",
    "    cmd = \"./build/apps/program -N \"+N+\" -K \"+K+\" -l \"+l+\" -seed \"+s+\" -n \"+n+\" -exact \"+exact+ \" -con \"+con+\" -pz \"+str(round(pz,2))\n",
    "    dest = \"logs/\" + dir + \"/pz\" + str(int(round(pz,2)*100)) + \".log\"\n",
    "    if euler:\n",
    "        process = subprocess.Popen(['bsub', '-W', runtime+':00', cmd+' &> '+dest])\n",
    "    else:\n",
    "        process = subprocess.Popen(cmd.split(), stderr=open(dest, 'w'))"
   ]
  },
  {
   "cell_type": "code",
   "execution_count": null,
   "id": "fd4c2083",
   "metadata": {},
   "outputs": [],
   "source": []
  }
 ],
 "metadata": {
  "kernelspec": {
   "display_name": "Python 3.8.15 ('pai-task3')",
   "language": "python",
   "name": "python3"
  },
  "language_info": {
   "codemirror_mode": {
    "name": "ipython",
    "version": 3
   },
   "file_extension": ".py",
   "mimetype": "text/x-python",
   "name": "python",
   "nbconvert_exporter": "python",
   "pygments_lexer": "ipython3",
   "version": "3.8.15"
  },
  "vscode": {
   "interpreter": {
    "hash": "b7773c28838dc32d46bb489f3ed269db5de6b525b3f9c4277ea3e0b01a1b598f"
   }
  }
 },
 "nbformat": 4,
 "nbformat_minor": 5
}
